{
 "cells": [
  {
   "cell_type": "code",
   "execution_count": 34,
   "metadata": {},
   "outputs": [
    {
     "name": "stdout",
     "output_type": "stream",
     "text": [
      "a + b = 39\n",
      "a - b = -9 and b - a = 9\n",
      "a * b = 360\n"
     ]
    }
   ],
   "source": [
    "a=int(input())\n",
    "b=int(input())\n",
    "print(f\"a + b = {a+b}\")\n",
    "print(f\"a - b = {a-b} and b - a = {b-a}\")\n",
    "print(f\"a * b = {a*b}\")\n",
    "#input: 15, 24\n"
   ]
  },
  {
   "cell_type": "code",
   "execution_count": 30,
   "metadata": {},
   "outputs": [
    {
     "name": "stdout",
     "output_type": "stream",
     "text": [
      "5\n"
     ]
    }
   ],
   "source": [
    "a=int(input())\n",
    "print(a%10)\n",
    "#input 12345"
   ]
  },
  {
   "cell_type": "code",
   "execution_count": 31,
   "metadata": {},
   "outputs": [
    {
     "name": "stdout",
     "output_type": "stream",
     "text": [
      "2.8284271247461903\n"
     ]
    }
   ],
   "source": [
    "a, b = list(map(int, input().split()))\n",
    "print((a*b)**0.5)\n",
    "#input: 4, 2"
   ]
  },
  {
   "cell_type": "code",
   "execution_count": 28,
   "metadata": {},
   "outputs": [],
   "source": [
    "file = open('input.txt','r')\n",
    "numbers = list(map(int, file.readline().split()))\n",
    "#print (numbers)\n",
    "znak = file.readline()\n",
    "file.close()\n",
    "t = numbers[0]\n",
    "\n",
    "if znak=='+':\n",
    "    for i in range(1, len(numbers)):\n",
    "        t=t+numbers[i]\n",
    "if znak=='-':\n",
    "    for i in range(1, len(numbers)):\n",
    "        t=t-numbers[i]\n",
    "if znak=='*':\n",
    "    for i in range(1, len(numbers)):\n",
    "        t=t*numbers[i]    \n",
    "\n",
    "file = open('output.txt', 'w')\n",
    "file.write(str(t))\n",
    "file.close()"
   ]
  },
  {
   "cell_type": "code",
   "execution_count": 23,
   "metadata": {},
   "outputs": [
    {
     "name": "stdout",
     "output_type": "stream",
     "text": [
      "введите каждое число в отдельной строке\n",
      "-655\n"
     ]
    }
   ],
   "source": [
    "def convert(num, basefrom, baseto):\n",
    "    if num >= 0:\n",
    "        sign = 1\n",
    "    else:\n",
    "        sign = -1\n",
    "        num = num * (-1)\n",
    "    temp = 0\n",
    "    i = 0\n",
    "    while num > 0:\n",
    "        temp += (num % 10 * (basefrom ** i))\n",
    "        i += 1\n",
    "        num //= 10\n",
    "    temp2 = []\n",
    "\n",
    "    \n",
    "    while temp > 0:\n",
    "        temp2.append(temp % baseto)\n",
    "        temp //= baseto\n",
    "    returned = 0\n",
    "    for i in range (len(temp2)):\n",
    "        returned += temp2[i]*(10**i)\n",
    "    return returned*sign\n",
    "    \n",
    "print('введите каждое число в отдельной строке')\n",
    "n = int(input())\n",
    "b = int(input())\n",
    "c = int(input())\n",
    "print(convert(n, b, c))\n",
    "\n",
    "#input -110101101, 2, 8"
   ]
  },
  {
   "cell_type": "code",
   "execution_count": 26,
   "metadata": {},
   "outputs": [],
   "source": [
    "def convert(num, basefrom, baseto):\n",
    "    if num >= 0:\n",
    "        sign = 1\n",
    "    else:\n",
    "        sign = -1\n",
    "        num = num * (-1)\n",
    "    temp = 0\n",
    "    i = 0\n",
    "    while num > 0:\n",
    "        temp += (num % 10 * (basefrom ** i))\n",
    "        i += 1\n",
    "        num //= 10\n",
    "    temp2 = []\n",
    "\n",
    "    \n",
    "    while temp > 0:\n",
    "        temp2.append(temp % baseto)\n",
    "        temp //= baseto\n",
    "    returned = 0\n",
    "    for i in range (len(temp2)):\n",
    "        returned += temp2[i]*(10**i)\n",
    "    return returned*sign\n",
    "\n",
    "\n",
    "file = open('input.txt', 'r')\n",
    "numbers = list(map(int, file.readline().split()))\n",
    "znak = file.readline()\n",
    "base = int(file.readline())\n",
    "file.close()\n",
    "\n",
    "#print(numbers, znak, base)\n",
    "for i in range(len(numbers)):\n",
    "    numbers[i] = convert(numbers[i], base, 10)\n",
    "t = numbers[0]\n",
    "if znak=='+\\n':\n",
    "    for i in range(1, len(numbers)):\n",
    "        t=t+numbers[i]\n",
    "if znak=='-\\n':\n",
    "    for i in range(1, len(numbers)):\n",
    "        t=t-numbers[i]\n",
    "if znak=='*\\n':\n",
    "    for i in range(1, len(numbers)):\n",
    "        t=t*numbers[i]\n",
    "t = convert(t, 10, base)\n",
    "\n",
    "file = open('output.txt', 'w')\n",
    "file.write(str(t))\n",
    "file.close()\n"
   ]
  },
  {
   "cell_type": "code",
   "execution_count": 32,
   "metadata": {},
   "outputs": [
    {
     "name": "stdout",
     "output_type": "stream",
     "text": [
      "[0. 0. 0. 0. 0. 0. 0. 0. 0. 0.]\n"
     ]
    }
   ],
   "source": [
    "#3. Create a null vector of size 10\n",
    "import numpy as np\n",
    "a = np.zeros(10)\n",
    "\n",
    "print (a)"
   ]
  },
  {
   "cell_type": "code",
   "execution_count": 33,
   "metadata": {},
   "outputs": [
    {
     "name": "stdout",
     "output_type": "stream",
     "text": [
      "[[[0.79671978 0.69102692 0.37275677]\n",
      "  [0.22938808 0.28943431 0.67244263]\n",
      "  [0.86000504 0.96380917 0.79559728]]\n",
      "\n",
      " [[0.32227174 0.3056834  0.66618408]\n",
      "  [0.13991965 0.27090656 0.91906029]\n",
      "  [0.22515524 0.92623737 0.09657669]]\n",
      "\n",
      " [[0.66634336 0.61844066 0.50396029]\n",
      "  [0.71651776 0.65298221 0.91949696]\n",
      "  [0.32025501 0.03597931 0.08793513]]]\n"
     ]
    }
   ],
   "source": [
    "#12. Create a 3x3x3 array with random values\n",
    "import numpy as np\n",
    "a = np.random.rand(3, 3, 3)\n",
    "\n",
    "print (a)"
   ]
  },
  {
   "cell_type": "code",
   "execution_count": 44,
   "metadata": {},
   "outputs": [
    {
     "name": "stdout",
     "output_type": "stream",
     "text": [
      "[[0 1 0 1 0 1 0 1]\n",
      " [1 0 1 0 1 0 1 0]\n",
      " [0 1 0 1 0 1 0 1]\n",
      " [1 0 1 0 1 0 1 0]\n",
      " [0 1 0 1 0 1 0 1]\n",
      " [1 0 1 0 1 0 1 0]\n",
      " [0 1 0 1 0 1 0 1]\n",
      " [1 0 1 0 1 0 1 0]]\n"
     ]
    }
   ],
   "source": [
    "#21. Create a checkerboard 8x8 matrix using the tile function\n",
    "import numpy as np\n",
    "a = np.array([0, 1])\n",
    "b = np.array([1, 0])\n",
    "c = np.tile(a, (1, 4))\n",
    "d = np.tile(b, (1, 4))\n",
    "e = np.vstack([c, d])\n",
    "result = np.tile(e, (4, 1))\n",
    "print(result)"
   ]
  },
  {
   "cell_type": "code",
   "execution_count": 58,
   "metadata": {},
   "outputs": [
    {
     "name": "stdout",
     "output_type": "stream",
     "text": [
      "2024-09-08\n",
      "2024-09-07\n",
      "2024-09-09\n"
     ]
    }
   ],
   "source": [
    "#33. How to get the dates of yesterday, today and tomorrow?\n",
    "import numpy as np\n",
    "today = np.datetime64('today')\n",
    "print (today)\n",
    "yesterday = np.datetime64('today') - np.timedelta64(1)\n",
    "print(yesterday)\n",
    "tomorrow = yesterday = np.datetime64('today') + np.timedelta64(1)\n",
    "print (tomorrow)"
   ]
  },
  {
   "cell_type": "code",
   "execution_count": 74,
   "metadata": {},
   "outputs": [
    {
     "name": "stdout",
     "output_type": "stream",
     "text": [
      "[[0.3383623  0.0693046 ]\n",
      " [0.78713305 0.30732155]\n",
      " [0.00905789 0.2468467 ]\n",
      " [0.36174712 0.68314212]\n",
      " [0.7071001  0.5236618 ]\n",
      " [0.64034537 0.4400833 ]\n",
      " [0.49548488 0.59764842]\n",
      " [0.61897497 0.98914192]\n",
      " [0.48261885 0.49360823]\n",
      " [0.46104405 0.7817547 ]]\n",
      "\n",
      "\n",
      "\n",
      "[[0.34538699 0.20202935]\n",
      " [0.84499999 0.37223057]\n",
      " [0.24701283 1.53411839]\n",
      " [0.77300979 1.08380146]\n",
      " [0.87989331 0.63744281]\n",
      " [0.77699132 0.60212387]\n",
      " [0.77633041 0.87858683]\n",
      " [1.16684693 1.01164377]\n",
      " [0.69034053 0.79665468]\n",
      " [0.90758031 1.03794369]]\n"
     ]
    }
   ],
   "source": [
    "#44. Consider a random 10x2 matrix representing cartesian coordinates, convert them to polar coordinates \n",
    "import numpy as np\n",
    "a = np.random.rand(10, 2)\n",
    "\n",
    "print(a)\n",
    "print('\\n\\n')\n",
    "b = np.zeros([10, 2])\n",
    "\n",
    "for i in range(10):\n",
    "    b[i,0] = np.sqrt(a[i,0]**2+a[i,1]**2)\n",
    "    b[i,1] = np.arctan(a[i,1]/a[i,0])\n",
    "\n",
    "print(b)"
   ]
  },
  {
   "cell_type": "code",
   "execution_count": 110,
   "metadata": {},
   "outputs": [
    {
     "name": "stdout",
     "output_type": "stream",
     "text": [
      "[[0.46532186 0.94163522 0.44859828 0.08882009 0.90950519 0.72127505]\n",
      " [0.71694425 0.01988448 0.45627922 0.67551004 0.34512701 0.59726712]\n",
      " [0.55245082 0.05249432 0.40494692 0.97050615 0.73494876 0.50162849]\n",
      " [0.61892576 0.35824023 0.85201496 0.13224548 0.80328931 0.67653939]\n",
      " [0.72109939 0.75757033 0.48623655 0.35848854 0.26233992 0.82553846]\n",
      " [0.47139068 0.70415035 0.63639159 0.00314806 0.04674389 0.07690755]]\n",
      "[[-0.13053742  0.34577594 -0.147261   -0.50703919  0.3136459   0.12541577]\n",
      " [ 0.24844223 -0.44861754 -0.0122228   0.20700802 -0.12337501  0.1287651 ]\n",
      " [ 0.01628824 -0.48366825 -0.13121566  0.43434357  0.19878619 -0.03453409]\n",
      " [ 0.04538324 -0.21530229  0.27847244 -0.44129704  0.22974679  0.10299687]\n",
      " [ 0.15255386  0.1890248  -0.08230898 -0.21005699 -0.30620561  0.25699293]\n",
      " [ 0.14826866  0.38102833  0.31326957 -0.31997396 -0.27637813 -0.24621447]]\n"
     ]
    }
   ],
   "source": [
    "#58. Subtract the mean of each row of a matrix\n",
    "\n",
    "import numpy as np\n",
    "\n",
    "a = np.random.rand(6, 6)\n",
    "print (a)\n",
    "\n",
    "b = a - a.mean(axis=1, keepdims=True)\n",
    "print (b)\n"
   ]
  },
  {
   "cell_type": "code",
   "execution_count": 127,
   "metadata": {},
   "outputs": [
    {
     "name": "stdout",
     "output_type": "stream",
     "text": [
      "[0.82011512 0.6651461  0.73613568 0.05697421 0.85469387 0.59821742\n",
      " 0.38197761 0.80642544 0.98569709 0.12502132]\n",
      "0.3819776066489827\n",
      "6\n"
     ]
    }
   ],
   "source": [
    "#61.  Find the nearest value from a given value in an array\n",
    "import numpy as np \n",
    "val = float(input())\n",
    "a = np.random.rand(10)\n",
    "print (a)\n",
    "idx = (np.abs(a - val)).argmin()\n",
    "print(a[idx])\n",
    "print(idx)\n",
    "\n"
   ]
  },
  {
   "cell_type": "code",
   "execution_count": 137,
   "metadata": {},
   "outputs": [
    {
     "name": "stdout",
     "output_type": "stream",
     "text": [
      "[[ 1  2  3]\n",
      " [ 4  5  6]\n",
      " [ 7  8  9]\n",
      " [10 11 12]\n",
      " [13 14 15]]\n",
      "[[ 1  2  3]\n",
      " [ 7  8  9]\n",
      " [ 4  5  6]\n",
      " [10 11 12]\n",
      " [13 14 15]]\n"
     ]
    }
   ],
   "source": [
    "#72. How to swap two rows of an array?\n",
    "import numpy as np\n",
    "a = np.array([[1, 2, 3],[4, 5, 6],[7, 8, 9],[10, 11, 12],[13, 14, 15]])\n",
    "print(a)\n",
    "a = a[[0, 2, 1, 3, 4]]\n",
    "print(a)"
   ]
  },
  {
   "cell_type": "code",
   "execution_count": 2,
   "metadata": {},
   "outputs": [
    {
     "name": "stdout",
     "output_type": "stream",
     "text": [
      "4\n"
     ]
    }
   ],
   "source": [
    "#83. How to find the most frequent value in an array?\n",
    "import numpy as np\n",
    "a = np.array([1, 2, 3, 4, 5, 2, 3, 4, 5, 3, 4, 5, 4, 4])\n",
    "print(np.bincount(a).argmax())"
   ]
  },
  {
   "cell_type": "code",
   "execution_count": 6,
   "metadata": {},
   "outputs": [
    {
     "name": "stdout",
     "output_type": "stream",
     "text": [
      "[[1 2 3]\n",
      " [2 3 4]\n",
      " [3 4 5]\n",
      " [2 3 4]\n",
      " [6 7 8]]\n",
      "\n",
      "\n",
      "[[1 2 3]\n",
      " [2 3 4]\n",
      " [3 4 5]\n",
      " [6 7 8]]\n"
     ]
    }
   ],
   "source": [
    "#96. Given a two dimensional array, how to extract unique rows? (★★★)\n",
    "import numpy as np\n",
    "a = np.array([[1, 2, 3], [2, 3, 4], [3, 4, 5], [2, 3, 4], [6, 7, 8]])\n",
    "print(a)\n",
    "print('\\n')\n",
    "b = np.unique(a, axis=0)\n",
    "\n",
    "print(b, sep='\\n')"
   ]
  }
 ],
 "metadata": {
  "kernelspec": {
   "display_name": "Python 3",
   "language": "python",
   "name": "python3"
  },
  "language_info": {
   "codemirror_mode": {
    "name": "ipython",
    "version": 3
   },
   "file_extension": ".py",
   "mimetype": "text/x-python",
   "name": "python",
   "nbconvert_exporter": "python",
   "pygments_lexer": "ipython3",
   "version": "3.12.5"
  }
 },
 "nbformat": 4,
 "nbformat_minor": 2
}
