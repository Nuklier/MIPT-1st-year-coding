{
 "cells": [
  {
   "cell_type": "code",
   "execution_count": 19,
   "metadata": {},
   "outputs": [
    {
     "name": "stdout",
     "output_type": "stream",
     "text": [
      "возможно невозможно\n"
     ]
    }
   ],
   "source": [
    "# 1 and only\n",
    "\n",
    "class graph:\n",
    "\n",
    "    def __init__(self, vertices):\n",
    "        self.verts = vertices\n",
    "        self.graph = []\n",
    "\n",
    "    def edge_insert(self, start, destination, value):\n",
    "        self.graph.append([start, destination, value])\n",
    "\n",
    "    def adjacency_matrix(self):\n",
    "        matrix = [[float(\"Inf\")] * self.verts for i in range(self.verts)]\n",
    "        for i in range(self.verts):\n",
    "            for s, d, v in self.graph:\n",
    "                matrix[s][d] = v\n",
    "                matrix[s][s] = 0\n",
    "                matrix[d][d] = 0\n",
    "        return matrix\n",
    "\n",
    "    def bellman_ford(self, src):\n",
    "\n",
    "        dist = [float(\"Inf\")] * self.verts\n",
    "        dist[src] = 0\n",
    "\n",
    "        for _ in range(self.verts - 1):\n",
    "            for s, d, w in self.graph:\n",
    "                if dist[s] != float(\"Inf\") and dist[s] + w < dist[d]:\n",
    "                    dist[d] = dist[s] + w\n",
    "\n",
    "        for s, d, w in self.graph:\n",
    "            if dist[s] != float(\"Inf\") and dist[s] + w < dist[d]:\n",
    "                return True\n",
    "        return False\n",
    "\n",
    "answers = []\n",
    "cycles = int(input())\n",
    "for cycle in range(cycles):\n",
    "    Verts, edges = map(int, input().split())\n",
    "    starmap = graph(Verts)\n",
    "    for i in range(edges):\n",
    "        temp = list(map(int, input().split()))\n",
    "        starmap.edge_insert(temp[0], temp[1], temp[2])\n",
    "    if starmap.bellman_ford(0):\n",
    "        answers.append(\"возможно\")\n",
    "    else:\n",
    "        answers.append(\"невозможно\")\n",
    "print(*answers)\n",
    "\n"
   ]
  },
  {
   "cell_type": "code",
   "execution_count": null,
   "metadata": {},
   "outputs": [
    {
     "name": "stdout",
     "output_type": "stream",
     "text": [
      "2.23606797749979\n"
     ]
    }
   ],
   "source": [
    "# 2 apparently\n",
    "\n",
    "def dist(a, b):\n",
    "    return ((b[0] - a[0]) ** 2 + (b[1] - a[1]) ** 2) ** 0.5\n",
    "\n",
    "def floyd(A, V):\n",
    "    for j in range(V):\n",
    "        for u in range(V):\n",
    "            for v in range(V):\n",
    "                distance = max(A[u][j], A[j][v])\n",
    "                if distance < A[u][v]:\n",
    "                    A[u][v] = distance\n",
    "    return A\n",
    "\n",
    "\n",
    "n = int(input())\n",
    "stones = []\n",
    "for i in range(n):\n",
    "    tmp = tuple(map(int, input().split()))\n",
    "    stones.append(tmp)\n",
    "stonemap = [[float(\"Inf\")] * n for i in range(n)]\n",
    "for i in range(n):\n",
    "    for j in range(n):\n",
    "        if i == j:\n",
    "            stonemap[i][j] = 0\n",
    "        else: \n",
    "            stonemap[i][j] = dist(stones[i], stones[j])\n",
    "            stonemap[j][i] = dist(stones[i], stones[j])\n",
    "print(floyd(stonemap, n)[0][1])\n",
    "\n"
   ]
  }
 ],
 "metadata": {
  "kernelspec": {
   "display_name": "Python 3",
   "language": "python",
   "name": "python3"
  },
  "language_info": {
   "codemirror_mode": {
    "name": "ipython",
    "version": 3
   },
   "file_extension": ".py",
   "mimetype": "text/x-python",
   "name": "python",
   "nbconvert_exporter": "python",
   "pygments_lexer": "ipython3",
   "version": "3.12.5"
  }
 },
 "nbformat": 4,
 "nbformat_minor": 2
}
