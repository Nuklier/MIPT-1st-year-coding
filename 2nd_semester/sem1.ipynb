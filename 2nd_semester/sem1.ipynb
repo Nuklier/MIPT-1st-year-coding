{
 "cells": [
  {
   "cell_type": "code",
   "execution_count": null,
   "metadata": {},
   "outputs": [
    {
     "name": "stdout",
     "output_type": "stream",
     "text": [
      "not connected\n"
     ]
    }
   ],
   "source": [
    "# 1 basic dfs\n",
    "\"\"\"\n",
    "примеры ввода\n",
    "связный:\n",
    "5\n",
    "1 3 4\n",
    "0\n",
    "3\n",
    "0 2 4\n",
    "0 3\n",
    "несвязный\n",
    "6\n",
    "1 3 4\n",
    "0\n",
    "5\n",
    "0\n",
    "0\n",
    "2\n",
    "\"\"\"\n",
    "# ввод через массив, индексы(с 0) - вершины, списки внутри\n",
    "n = int(input()) # vertex count\n",
    "g = [] # edges\n",
    "for i in range(n):\n",
    "    g.append(list(map(int, input().split())))\n",
    "\n",
    "start = 0\n",
    "visited = [False] * (n)\n",
    "prev = [None] * (n)\n",
    "def dfs(start, visited, prev, g):\n",
    "    visited[start] = True\n",
    "    for u in g[start]:\n",
    "        if not visited[u]:\n",
    "            prev[u] = start\n",
    "            dfs(u, visited, prev, g)\n",
    "dfs(start, visited, prev, g)\n",
    "\n",
    "if False in visited:\n",
    "    print(\"not connected\")\n",
    "else:\n",
    "    print(\"connected\")\n",
    "\n"
   ]
  },
  {
   "cell_type": "code",
   "execution_count": null,
   "metadata": {},
   "outputs": [
    {
     "name": "stdout",
     "output_type": "stream",
     "text": [
      "impossible\n"
     ]
    }
   ],
   "source": [
    "# 2\n",
    "\"\"\"тесты:\n",
    "граф 0->1->2, с 0 до 2, с 2 до 0:\n",
    "3\n",
    "1\n",
    "2\n",
    "\n",
    "0 2\n",
    "этот тру\n",
    "\n",
    "3\n",
    "1\n",
    "2\n",
    "\n",
    "2 0\n",
    "этот фолс\n",
    "+работает на тестах из (1) так как должен\n",
    "\"\"\"\n",
    "n = int(input()) # vertex count\n",
    "g = [] # edges\n",
    "for i in range(n):\n",
    "    g.append(list(map(int, input().split())))\n",
    "s, e = map(int, input().split()) # вершины все еще задаются с 0 до n - 1\n",
    "start = s\n",
    "visited = [False] * (n)\n",
    "prev = [None] * (n)\n",
    "def dfs(start, visited, prev, g):\n",
    "    visited[start] = True\n",
    "    for u in g[start]:\n",
    "        if not visited[u]:\n",
    "            prev[u] = start\n",
    "            dfs(u, visited, prev, g)\n",
    "dfs(start, visited, prev, g)\n",
    "if visited[e] == True:\n",
    "    print(\"possible\")\n",
    "else:\n",
    "    print(\"impossible\")"
   ]
  },
  {
   "cell_type": "code",
   "execution_count": 3,
   "metadata": {},
   "outputs": [
    {
     "ename": "ValueError",
     "evalue": "invalid literal for int() with base 10: ''",
     "output_type": "error",
     "traceback": [
      "\u001b[1;31m---------------------------------------------------------------------------\u001b[0m",
      "\u001b[1;31mValueError\u001b[0m                                Traceback (most recent call last)",
      "Cell \u001b[1;32mIn[3], line 20\u001b[0m\n\u001b[0;32m      1\u001b[0m \u001b[38;5;66;03m# 4\u001b[39;00m\n\u001b[0;32m      2\u001b[0m \u001b[38;5;124;03m\"\"\"примеры:\u001b[39;00m\n\u001b[0;32m      3\u001b[0m \u001b[38;5;124;03m6\u001b[39;00m\n\u001b[0;32m      4\u001b[0m \u001b[38;5;124;03m1\u001b[39;00m\n\u001b[1;32m   (...)\u001b[0m\n\u001b[0;32m     18\u001b[0m \u001b[38;5;124;03m1 4\u001b[39;00m\n\u001b[0;32m     19\u001b[0m \u001b[38;5;124;03mвердикт - true (похоже на тест выше, но добавлено циклящее ребро)\"\"\"\u001b[39;00m\n\u001b[1;32m---> 20\u001b[0m n \u001b[38;5;241m=\u001b[39m \u001b[38;5;28;43mint\u001b[39;49m\u001b[43m(\u001b[49m\u001b[38;5;28;43minput\u001b[39;49m\u001b[43m(\u001b[49m\u001b[43m)\u001b[49m\u001b[43m)\u001b[49m \u001b[38;5;66;03m# vertex count\u001b[39;00m\n\u001b[0;32m     21\u001b[0m g \u001b[38;5;241m=\u001b[39m [] \u001b[38;5;66;03m# edges\u001b[39;00m\n\u001b[0;32m     22\u001b[0m \u001b[38;5;28;01mfor\u001b[39;00m i \u001b[38;5;129;01min\u001b[39;00m \u001b[38;5;28mrange\u001b[39m(n):\n",
      "\u001b[1;31mValueError\u001b[0m: invalid literal for int() with base 10: ''"
     ]
    }
   ],
   "source": [
    "# 4\n",
    "\"\"\"примеры:\n",
    "6\n",
    "1\n",
    "0 2 5\n",
    "1 3 4\n",
    "2\n",
    "2\n",
    "1\n",
    "вердикт - false (это дерево)\n",
    "\n",
    "6\n",
    "1\n",
    "0 2 5\n",
    "1 3 4\n",
    "2\n",
    "2 5\n",
    "1 4\n",
    "вердикт - true (похоже на тест выше, но добавлено циклящее ребро)\"\"\"\n",
    "n = int(input()) # vertex count\n",
    "g = [] # edges\n",
    "for i in range(n):\n",
    "    g.append(list(map(int, input().split())))\n",
    "\n",
    "\n",
    "def dfs(start, visited, prev, g):\n",
    "    visited[start] = True\n",
    "    for u in g[start]:\n",
    "        if not visited[u]:\n",
    "            prev[u] = start\n",
    "            dfs(u, visited, prev, g)\n",
    "        elif not prev[start] == u:\n",
    "            return True\n",
    "    return False\n",
    "\n",
    "\n",
    "t = False\n",
    "# проход по всем n по двум причинам:\n",
    "# первая - для выполнения задачи в несвязном графе\n",
    "# вторая - иногда обход происходит так, что вершина цикла - последняя, и на ней обход заканчивается\n",
    "# в этом случае dfs не видит цикл и выдает false\n",
    "# обход по всем вершинам убирает эту проблему\n",
    "for i in range(n): \n",
    "    visited = [False] * (n)\n",
    "    prev = [None] * (n)\n",
    "    if dfs(i, visited, prev, g):\n",
    "        t = True\n",
    "        break\n",
    "print(t)"
   ]
  }
 ],
 "metadata": {
  "kernelspec": {
   "display_name": "Python 3",
   "language": "python",
   "name": "python3"
  },
  "language_info": {
   "codemirror_mode": {
    "name": "ipython",
    "version": 3
   },
   "file_extension": ".py",
   "mimetype": "text/x-python",
   "name": "python",
   "nbconvert_exporter": "python",
   "pygments_lexer": "ipython3",
   "version": "3.12.5"
  }
 },
 "nbformat": 4,
 "nbformat_minor": 2
}
