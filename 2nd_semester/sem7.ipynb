{
 "cells": [
  {
   "cell_type": "code",
   "execution_count": null,
   "metadata": {},
   "outputs": [
    {
     "name": "stdout",
     "output_type": "stream",
     "text": [
      "25\n"
     ]
    }
   ],
   "source": [
    "# 1\n",
    "\n",
    "class Graph:\n",
    "\n",
    "    def __init__(self, graph):\n",
    "        self.graph = graph  \n",
    "        self.ROW = len(graph)  # Количество вершин в графе\n",
    "\n",
    "    def BFS(self, s, t, parent):\n",
    "        visited = [False] * (self.ROW)\n",
    "        queue = []\n",
    "        queue.append(s)\n",
    "        visited[s] = True\n",
    "        while queue:\n",
    "            u = queue.pop(0)\n",
    "            # Перебираем все смежные вершины\n",
    "            for ind, val in enumerate(self.graph[u]):\n",
    "                # Если вершина не посещена и остаточная пропускная способность больше 0\n",
    "                if visited[ind] == False and val > 0:\n",
    "                    # Добавляем вершину в очередь и отмечаем как посещённую\n",
    "                    queue.append(ind)\n",
    "                    visited[ind] = True\n",
    "                    parent[ind] = u  # Сохраняем текущую вершину как родительскую\n",
    "                    # Если достигли стока, возвращаем True\n",
    "                    if ind == t:\n",
    "                        return True\n",
    "        # Если сток не достигнут, возвращаем False\n",
    "        return False\n",
    "\n",
    "    def FordFulkerson(self, source, sink):\n",
    "        # Массив для хранения пути, найденного BFS\n",
    "        parent = [-1] * (self.ROW)\n",
    "        max_flow = 0  \n",
    "        while self.BFS(source, sink, parent):\n",
    "            # Находим минимальную остаточную пропускную способность на пути\n",
    "            path_flow = float(\"Inf\")\n",
    "            s = sink\n",
    "            while s != source:\n",
    "                path_flow = min(path_flow, self.graph[parent[s]][s])\n",
    "                s = parent[s]\n",
    "            max_flow += path_flow\n",
    "            # Обновляем остаточные пропускные способности рёбер и обратных рёбер\n",
    "            v = sink\n",
    "            while v != source:\n",
    "                u = parent[v]\n",
    "                self.graph[u][v] -= path_flow  \n",
    "                self.graph[v][u] += path_flow  \n",
    "                v = parent[v]\n",
    "        return max_flow\n",
    "\n",
    "\n",
    "# int n;\n",
    "n = int(input())\n",
    "V = [0] * n\n",
    "for i in range(n):\n",
    "    V[i] = [0] * n\n",
    "while True:\n",
    "    t = input()\n",
    "    if t == '0':\n",
    "        break\n",
    "    T = list(map(int, t.split()))\n",
    "    t1, t2, t3 = T[0], T[1], T[2]\n",
    "    V[t1 - 1][t2 - 1] = t3\n",
    "    V[t2 - 1][t1 - 1] = t3\n",
    "\n",
    "g = Graph(V)\n",
    "\n",
    "source = 0\n",
    "sink = n - 1\n",
    "\n",
    "print(g.FordFulkerson(source, sink))\n",
    "\n",
    "# P.S. Для примера из примера ввода-вывода правильный ответ 30,\n",
    "# 25 для графа из примера в пояснении условия"
   ]
  }
 ],
 "metadata": {
  "kernelspec": {
   "display_name": "Python 3",
   "language": "python",
   "name": "python3"
  },
  "language_info": {
   "codemirror_mode": {
    "name": "ipython",
    "version": 3
   },
   "file_extension": ".py",
   "mimetype": "text/x-python",
   "name": "python",
   "nbconvert_exporter": "python",
   "pygments_lexer": "ipython3",
   "version": "3.12.5"
  }
 },
 "nbformat": 4,
 "nbformat_minor": 2
}
