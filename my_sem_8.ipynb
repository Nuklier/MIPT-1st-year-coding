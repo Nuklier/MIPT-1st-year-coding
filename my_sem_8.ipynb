{
 "cells": [
  {
   "cell_type": "code",
   "execution_count": 64,
   "metadata": {},
   "outputs": [
    {
     "name": "stdout",
     "output_type": "stream",
     "text": [
      "3 4 2 1 - * + 5 / \n",
      " / + 3 * 4 - 2 1 5\n"
     ]
    }
   ],
   "source": [
    "# 1 вводить через пробел\n",
    "def bober_reversed(inp):\n",
    "    # operators power\n",
    "    power = {}\n",
    "    power['*'] = 3\n",
    "    power['/'] = 3\n",
    "    power['+'] = 2\n",
    "    power['-'] = 2\n",
    "    power['('] = 1\n",
    "    a = inp.split()\n",
    "    # stack shenanigans\n",
    "    operators, output = [], []  # operator works as a stack\n",
    "    for i in a:\n",
    "        if i.isdigit() == True:\n",
    "            output.append(i)\n",
    "        elif i == '(':\n",
    "            operators.append(i)\n",
    "        elif i == ')':\n",
    "            t = operators.pop()\n",
    "            while(t != '('):\n",
    "                output.append(t)\n",
    "                t = operators.pop()\n",
    "        else:\n",
    "            while len(operators) > 0 and power[operators[-1]] >= power[i]:\n",
    "                output.append(operators.pop())\n",
    "            operators.append(i)\n",
    "    while len(operators) > 0:\n",
    "        output.append(operators.pop())\n",
    "    return \" \".join(output)\n",
    "\n",
    "\n",
    "def obracać(p):\n",
    "    p = p[::-1]\n",
    "    p = p.replace(')', 'Ж')\n",
    "    p = p.replace('(', ')')\n",
    "    p = p.replace('Ж', '(')\n",
    "    return p\n",
    "\n",
    "\n",
    "def bober_direct(inp):\n",
    "    inp = obracać(inp)\n",
    "    p = bober_reversed(inp)\n",
    "    p = obracać(p)\n",
    "    return p\n",
    "\n",
    "\n",
    "a = input()\n",
    "print(bober_reversed(a), '\\n', bober_direct(a))\n",
    "# ( 2 - 3 ) * ( 12 - 10 ) + 4 / 2\n",
    "# ( 3 + 4 * ( 2 - 1 ) ) / 5\n"
   ]
  },
  {
   "cell_type": "code",
   "execution_count": 65,
   "metadata": {},
   "outputs": [
    {
     "name": "stdout",
     "output_type": "stream",
     "text": [
      "1.4\n"
     ]
    }
   ],
   "source": [
    "# 2\n",
    "inp = input()\n",
    "a = inp.split()\n",
    "numstack = []\n",
    "for i in a:\n",
    "    if i.isdigit() == True:\n",
    "        numstack.append(float(i))\n",
    "    else:\n",
    "        p1 = numstack.pop()\n",
    "        p2 = numstack.pop()\n",
    "        if i == '+':\n",
    "            numstack.append(p1 + p2)\n",
    "        if i == '-':\n",
    "            numstack.append(p2 - p1)\n",
    "        if i == '*':\n",
    "            numstack.append(p1 * p2)\n",
    "        if i == '/':\n",
    "            numstack.append(p2 / p1)\n",
    "if len(numstack) == 1:\n",
    "    print(numstack[0])\n",
    "else:\n",
    "    print(\"wrong input\")"
   ]
  },
  {
   "cell_type": "code",
   "execution_count": 73,
   "metadata": {},
   "outputs": [
    {
     "name": "stdout",
     "output_type": "stream",
     "text": [
      "a b + 2 -\n"
     ]
    }
   ],
   "source": [
    "# 3\n",
    "\"\"\" либо я чего-то не понимаю,\n",
    "    либо я написал сорт.станцию для перевода записи в 1 номере,\n",
    "    вот на всякий случай вырезка кода:\"\"\"\n",
    "# а, я еще добавил проверку на буковки, не только на чиселки,\n",
    "# так по алгебраичнее будет\n",
    "# ввод все еще через пробел\n",
    "\n",
    "\n",
    "def bober_reversed(inp):\n",
    "    # operators power\n",
    "    power = {}\n",
    "    power['*'] = 3\n",
    "    power['/'] = 3\n",
    "    power['+'] = 2\n",
    "    power['-'] = 2\n",
    "    power['('] = 1\n",
    "    a = inp.split()\n",
    "    # stack shenanigans\n",
    "    operators, output = [], []  # operator works as a stack\n",
    "    for i in a:\n",
    "        if i.isdigit() == True or i in 'abcdefghijklmnopqrstuvwxyz':\n",
    "            output.append(i)\n",
    "        elif i == '(':\n",
    "            operators.append(i)\n",
    "        elif i == ')':\n",
    "            t = operators.pop()\n",
    "            while(t != '('):\n",
    "                output.append(t)\n",
    "                t = operators.pop()\n",
    "        else:\n",
    "            while len(operators) > 0 and power[operators[-1]] >= power[i]:\n",
    "                output.append(operators.pop())\n",
    "            operators.append(i)\n",
    "    while len(operators) > 0:\n",
    "        output.append(operators.pop())\n",
    "    return \" \".join(output)\n",
    "\n",
    "\n",
    "a = input()\n",
    "print(bober_reversed(a))"
   ]
  }
 ],
 "metadata": {
  "kernelspec": {
   "display_name": "Python 3",
   "language": "python",
   "name": "python3"
  },
  "language_info": {
   "codemirror_mode": {
    "name": "ipython",
    "version": 3
   },
   "file_extension": ".py",
   "mimetype": "text/x-python",
   "name": "python",
   "nbconvert_exporter": "python",
   "pygments_lexer": "ipython3",
   "version": "3.12.5"
  }
 },
 "nbformat": 4,
 "nbformat_minor": 2
}
