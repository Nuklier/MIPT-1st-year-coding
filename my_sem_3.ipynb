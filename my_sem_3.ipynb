{
 "cells": [
  {
   "cell_type": "code",
   "execution_count": 8,
   "metadata": {},
   "outputs": [
    {
     "name": "stdout",
     "output_type": "stream",
     "text": [
      "377\n"
     ]
    }
   ],
   "source": [
    "# 1\n",
    "def fib(n):\n",
    "    if n == 1:\n",
    "        return 0\n",
    "    if n == 2 or n == 3:\n",
    "        return 1\n",
    "    return fib(n-2) + fib(n-1)\n",
    "\n",
    "\n",
    "n = int(input())\n",
    "print(fib(n))"
   ]
  },
  {
   "cell_type": "code",
   "execution_count": 6,
   "metadata": {},
   "outputs": [
    {
     "name": "stdout",
     "output_type": "stream",
     "text": [
      "[2, 2, 2, 2, 2, 2, 31]\n"
     ]
    }
   ],
   "source": [
    "# 2 \n",
    "def div(n):\n",
    "    a = []\n",
    "    x = 2\n",
    "    while x <= n:\n",
    "        if n % x == 0:\n",
    "            a.append(x)\n",
    "            n = n // x\n",
    "            x = 2\n",
    "        else:\n",
    "            x += 1\n",
    "    return a\n",
    "\n",
    "\n",
    "t = int(input())\n",
    "print(div(t))"
   ]
  },
  {
   "cell_type": "code",
   "execution_count": 36,
   "metadata": {},
   "outputs": [
    {
     "name": "stdout",
     "output_type": "stream",
     "text": [
      "496\n"
     ]
    }
   ],
   "source": [
    "# 3\n",
    "# оставил для себя, когда-нибудь допишу, вдруг понадобится ур-ния в целых решать\n",
    "# недоделал в общем, не смотрите\n",
    "\n",
    "\n",
    "def nod(a, b):\n",
    "    if(a == 0 or b == 0):\n",
    "        return max(a, b)\n",
    "    else:\n",
    "        if a > b:\n",
    "            return nod(a - b, b)\n",
    "        else:\n",
    "            return nod(a, b - a)\n",
    "a, b = list(map(int, input().split()))\n",
    "print(nod(a, b))\n",
    "\n",
    "\n",
    "def gcd(a, b):\n",
    "    while a > 0 and b > 0:\n",
    "        if a >= b:\n",
    "            a = a % b\n",
    "        else:\n",
    "            b = b % a\n",
    "    return max(a, b)\n",
    "\n",
    "# позаимствовал этот код со StOvFl, разобраться надо бы\n",
    "\"\"\"def extended_gcd(a, b):\n",
    "    p = 1\n",
    "    q = 0\n",
    "    r = 0\n",
    "    s = 1\n",
    "\n",
    "    while a != 0 and b != 0:\n",
    "        if a >= b:\n",
    "            a = a - b\n",
    "            p = p - r\n",
    "            q = q - s\n",
    "        else:\n",
    "            b = b - a\n",
    "            r = r - p\n",
    "            s = s - q\n",
    "    if a != 0:\n",
    "        x = p\n",
    "        y = q\n",
    "    else:\n",
    "        x = r\n",
    "        y = s\n",
    "    return x, y\n",
    "\n",
    "\n",
    "def diophantine(a, b, c):\n",
    "    (u, v) = extended_gcd(a, b)\n",
    "    x = u * (c // gcd(a, b))\n",
    "    y = v * (c // gcd(a, b))\n",
    "    return x, y\"\"\"\n",
    "\n",
    "#http://www.csun.edu/~sf70713/probweek/spring04/solutions/more4.pdf\n",
    "\n",
    "#есть еще эта строка, в ней на страничке все расписано\n",
    "\n",
    "#ну или с нуля реализуй расширенный алг евклида\n",
    "\n",
    "\n",
    "\n"
   ]
  },
  {
   "cell_type": "code",
   "execution_count": 3,
   "metadata": {},
   "outputs": [
    {
     "name": "stdout",
     "output_type": "stream",
     "text": [
      "p\n",
      "pp\n",
      "ppp\n",
      "pppp\n",
      "ppppp\n",
      "pppp\n",
      "ppp\n",
      "pp\n",
      "p\n"
     ]
    }
   ],
   "source": [
    "# 4\n",
    "def triag(n, sig):\n",
    "    mid_idx = 0\n",
    "    if n % 2 == 1:\n",
    "        mid_idx = n // 2 + 1\n",
    "    c = n // 2\n",
    "    for i in range(c):\n",
    "        print((i+1) * sig)\n",
    "    if mid_idx != 0:\n",
    "        print(mid_idx * sig)\n",
    "    for i in range(c):\n",
    "        print((c - i) * sig)\n",
    "\n",
    "\n",
    "a = list((input().split()))\n",
    "side = int(a[0])\n",
    "z = a[1]\n",
    "triag(side, z)"
   ]
  },
  {
   "cell_type": "code",
   "execution_count": 5,
   "metadata": {},
   "outputs": [
    {
     "name": "stdout",
     "output_type": "stream",
     "text": [
      "[[  0   0   0   0   0]\n",
      " [ 20  21  22  23   6]\n",
      " [ 38  64  66  48  14]\n",
      " [ 54  93 102  75  24]\n",
      " [ 68 120 140 104  36]\n",
      " [ 80 145 140 135  50]\n",
      " [ 90  84  78  72  66]]\n"
     ]
    }
   ],
   "source": [
    "# 5\n",
    "import numpy as np\n",
    "\n",
    "\n",
    "def fill(n, m):\n",
    "    a = np.zeros((n, m), int)\n",
    "    left, right, top, bottom = 0, m - 1, 0, n - 1\n",
    "    num = 1\n",
    "    # this is where the fun begins\n",
    "    while left <= right and top <= bottom:\n",
    "        for i in range(left, right + 1):\n",
    "            a[top][i] = num\n",
    "            num += 1\n",
    "        top += 1\n",
    "        for i in range(top, bottom + 1):\n",
    "            a[i][right] = num\n",
    "            num += 1\n",
    "        right -= 1\n",
    "        if top <= bottom:\n",
    "            for i in range(right, left - 1, -1):\n",
    "                a[bottom][i] = num\n",
    "                num += 1\n",
    "            bottom -= 1\n",
    "        if left <= right:\n",
    "            for i in range(bottom, top - 1, -1):\n",
    "                a[i][left] = num\n",
    "                num += 1\n",
    "            left += 1\n",
    "    return a\n",
    "\n",
    "\n",
    "n, m = list(map(int, input().split()))\n",
    "a = fill(n, m)\n",
    "for i in range(n):\n",
    "    a[i] = a[i] * i\n",
    "print(a)"
   ]
  },
  {
   "cell_type": "code",
   "execution_count": 59,
   "metadata": {},
   "outputs": [
    {
     "name": "stdout",
     "output_type": "stream",
     "text": [
      "1.0821428 0.07499913\n"
     ]
    },
    {
     "data": {
      "image/png": "[encoded data removed]",
      "text/plain": [
       "<Figure size 640x480 with 1 Axes>"
      ]
     },
     "metadata": {},
     "output_type": "display_data"
    }
   ],
   "source": [
    "# 6 мнк\n",
    "import matplotlib.pyplot as plt\n",
    "import numpy as np\n",
    "\n",
    "\n",
    "# вводится строка измерений по ox, потом строка измерений по oy\n",
    "# количество координат по ox  = количеству координат по oy\n",
    "# мнк делаю для линейной функции\n",
    "# погрешность определения коэффициента не учитывается\n",
    "# y = ax + b\n",
    "x = input().split()\n",
    "y = input().split()\n",
    "X = np.array(x, dtype=np.float32)\n",
    "Y = np.array(y, dtype=np.float32)\n",
    "XY = []\n",
    "for i in range(len(X)):\n",
    "    t = X[i] * Y[i]\n",
    "    XY.append(t)\n",
    "Xsq = []\n",
    "for i in X:\n",
    "    Xsq.append(i * i)\n",
    "xmean = np.mean(X)\n",
    "ymean = np.mean(Y)\n",
    "xsqmean = np.mean(Xsq)\n",
    "xymean = np.mean(XY)\n",
    "\n",
    "a = (xymean - xmean * ymean) / (xsqmean - xmean * xmean)\n",
    "b = (xsqmean * ymean - xmean * xymean)/(xsqmean - xmean * xmean)\n",
    "print(a, b)\n",
    "apprX = [i * a + b for i in X]\n",
    "plt.scatter(X, Y, s=10, c='red')\n",
    "plt.grid(True)\n",
    "plt.plot(X, apprX)\n",
    "plt.show()"
   ]
  },
  {
   "cell_type": "code",
   "execution_count": 18,
   "metadata": {},
   "outputs": [
    {
     "name": "stdout",
     "output_type": "stream",
     "text": [
      "[ 1.4 -2.2]\n"
     ]
    }
   ],
   "source": [
    "# 7 только для систем с равным количеством уравнений и неизвестных\n",
    "# И детерминантом не равным 0 :(\n",
    "import numpy as np\n",
    "n, m = list(map(int, input().split()))\n",
    "slu, svch = np.zeros((n, n)), np.zeros(n)\n",
    "slu_1 = np.zeros((n, m))\n",
    "for i in range(n):\n",
    "    slu_1[i] = list(map(int, input().split()))\n",
    "for i in range(n):\n",
    "    for j in range(n):\n",
    "        slu[i][j] = slu_1[i][j]\n",
    "    svch[i] = slu_1[i][m-1]\n",
    "x = np.linalg.solve(slu, svch)\n",
    "print(x)"
   ]
  }
 ],
 "metadata": {
  "kernelspec": {
   "display_name": "Python 3",
   "language": "python",
   "name": "python3"
  },
  "language_info": {
   "codemirror_mode": {
    "name": "ipython",
    "version": 3
   },
   "file_extension": ".py",
   "mimetype": "text/x-python",
   "name": "python",
   "nbconvert_exporter": "python",
   "pygments_lexer": "ipython3",
   "version": "3.12.5"
  }
 },
 "nbformat": 4,
 "nbformat_minor": 2
}
