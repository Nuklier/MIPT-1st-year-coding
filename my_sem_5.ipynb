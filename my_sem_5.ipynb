{
 "cells": [
  {
   "cell_type": "code",
   "execution_count": 1,
   "metadata": {},
   "outputs": [
    {
     "name": "stdout",
     "output_type": "stream",
     "text": [
      "907 123\n"
     ]
    }
   ],
   "source": [
    "# 1\n",
    "# student_10221student_00246student_90789student_12389\n",
    "string = input()\n",
    "a = []\n",
    "a = string.split(\"student_\")\n",
    "a.pop(0)\n",
    "a = list(map(int, a))\n",
    "minis = -1\n",
    "ans = []\n",
    "for i in a:\n",
    "    if i % 100 > minis:\n",
    "        minis = i % 100\n",
    "    if i % 1000 == 100:\n",
    "        minis = 100\n",
    "        break\n",
    "for i in a:\n",
    "    if (i % 100 == minis and minis != 100) or i % 1000 == minis == 100:\n",
    "        ans.append(i)\n",
    "if minis == 100:\n",
    "    ans_2 = [i // 1000 for i in ans]\n",
    "else:\n",
    "    ans_2 = [i // 100 for i in ans]\n",
    "print(' '.join(str(i) for i in ans_2))"
   ]
  },
  {
   "cell_type": "code",
   "execution_count": 50,
   "metadata": {},
   "outputs": [
    {
     "name": "stdout",
     "output_type": "stream",
     "text": [
      "Длина окружности равно 12.57. Площадь круга составляет 139.63% от площади квадрата\n"
     ]
    }
   ],
   "source": [
    "# 2\n",
    "pi = 3.1415926535\n",
    "r, a = list(map(float, input().split()))\n",
    "print(f\"Длина окружности равно {round(2*pi*r, 2)}. Площадь круга составляет {round((pi*r*r)/(a*a)*100, 2)}% от площади квадрата\")"
   ]
  },
  {
   "cell_type": "code",
   "execution_count": 16,
   "metadata": {},
   "outputs": [
    {
     "name": "stdout",
     "output_type": "stream",
     "text": [
      "бав-дгеёж\n"
     ]
    }
   ],
   "source": [
    "# 3\n",
    "a, b = list(input().split())\n",
    "a1 = [i for i in a]\n",
    "b1 = [i for i in b]\n",
    "a1[0], a1[1] = a1[1], a1[0]\n",
    "b1[0], b1[1] = b1[1], b1[0]\n",
    "a = \"\".join(str(i) for i in a1)\n",
    "b = \"\".join(str(i) for i in b1)\n",
    "print(f\"{a}-{b}\")"
   ]
  },
  {
   "cell_type": "code",
   "execution_count": 8,
   "metadata": {},
   "outputs": [
    {
     "name": "stdout",
     "output_type": "stream",
     "text": [
      "PIPIPUPU\n"
     ]
    }
   ],
   "source": [
    "# 4\n",
    "string = input()\n",
    "ch = False\n",
    "t = 0\n",
    "for i in range(4):\n",
    "    if string[i].isupper():\n",
    "        t += 1\n",
    "if t >= 3:\n",
    "    string = string.upper()\n",
    "print(string)"
   ]
  }
 ],
 "metadata": {
  "kernelspec": {
   "display_name": "Python 3",
   "language": "python",
   "name": "python3"
  },
  "language_info": {
   "codemirror_mode": {
    "name": "ipython",
    "version": 3
   },
   "file_extension": ".py",
   "mimetype": "text/x-python",
   "name": "python",
   "nbconvert_exporter": "python",
   "pygments_lexer": "ipython3",
   "version": "3.12.5"
  }
 },
 "nbformat": 4,
 "nbformat_minor": 2
}
