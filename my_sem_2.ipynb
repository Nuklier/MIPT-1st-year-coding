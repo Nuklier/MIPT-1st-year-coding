{
 "cells": [
  {
   "cell_type": "code",
   "execution_count": 4,
   "metadata": {},
   "outputs": [
    {
     "name": "stdout",
     "output_type": "stream",
     "text": [
      "3\n"
     ]
    }
   ],
   "source": [
    "#1 ввод всего в строку\n",
    "inputed = list(map(int, input().split()))\n",
    "n = inputed[0]\n",
    "inputed.remove(n)\n",
    "for i in range(n):\n",
    "    check = 0\n",
    "    for j in inputed:\n",
    "        if i + 1 == j:\n",
    "            break\n",
    "        else:\n",
    "            check += 1\n",
    "    if check == n-1:\n",
    "        print(i+1)\n",
    "        "
   ]
  },
  {
   "cell_type": "code",
   "execution_count": 44,
   "metadata": {},
   "outputs": [
    {
     "name": "stdout",
     "output_type": "stream",
     "text": [
      "вбаедгизж\n"
     ]
    }
   ],
   "source": [
    "#2 ввод построчный\n",
    "groups = int(input())\n",
    "string = input()\n",
    "p = []\n",
    "i = 0\n",
    "while i != len(string):\n",
    "    temp = string[i : i + len(string) // groups]\n",
    "    p.append(temp)\n",
    "    i = i + len(string) // groups\n",
    "ans = ''\n",
    "for i in p:\n",
    "    i = i[::-1]\n",
    "    ans += i\n",
    "print(ans)\n",
    "\n"
   ]
  },
  {
   "cell_type": "code",
   "execution_count": 86,
   "metadata": {},
   "outputs": [
    {
     "name": "stdout",
     "output_type": "stream",
     "text": [
      "YESSSS\n"
     ]
    }
   ],
   "source": [
    "#todo:\n",
    "#numbers are not read in mirrored check\n",
    "#the second letter is not read in mirrored check\n",
    "mirrors1 = ['E', 'J', 'S', 'Z']\n",
    "mirrors2 = ['3', 'L', '2', '5']\n",
    "internals = ['A', 'H', 'I', 'M', 'O', 'T', 'U', 'V', 'W', 'X', 'Y', '1', '8']\n",
    "a=input()\n",
    "state = 0\n",
    "copied = a\n",
    "l = len(a)\n",
    "#pali check - worke\n",
    "pali_check = 0\n",
    "for i in range(l):\n",
    "    if a[i]==a[l-1-i]:\n",
    "        pali_check+=1\n",
    "if pali_check==l:\n",
    "    state+=1\n",
    "#middle check - worke\n",
    "m_check = False\n",
    "for i in internals:\n",
    "    if a[l//2]==i:\n",
    "        m_check=True #end_state is mir_check*m_check\n",
    "#mirrored check\n",
    "mir_check = 0\n",
    "for i in range(l):\n",
    "    #mirrorness check start\n",
    "    for j in range(4): #4 is mirrors size\n",
    "        if (a[i]==mirrors1[j] and a[l-1-i]==mirrors2[j]) or (a[i]==mirrors1[j] and a[l-1-i]==mirrors2[j]):\n",
    "            mir_check+=1\n",
    "    #mirrorness check finish\n",
    "    for j in internals:#true pali - worke\n",
    "        if(a[i]==a[l-1-i]==j):\n",
    "            mir_check+=1\n",
    "if mir_check==l:\n",
    "    print(\"YESSSS\")\n",
    "\n"
   ]
  },
  {
   "cell_type": "code",
   "execution_count": 18,
   "metadata": {},
   "outputs": [
    {
     "name": "stdout",
     "output_type": "stream",
     "text": [
      "[2, 1, 4, 3, 5]\n"
     ]
    }
   ],
   "source": [
    "#4\n",
    "a =[1, 2, 3, 4, 5]\n",
    "for i in range(1, len(a), 2):\n",
    "    a[i], a[i-1] = a[i-1], a[i]\n",
    "print(a)"
   ]
  },
  {
   "cell_type": "code",
   "execution_count": 13,
   "metadata": {},
   "outputs": [
    {
     "name": "stdout",
     "output_type": "stream",
     "text": [
      "[5, 1, 2, 3, 4]\n"
     ]
    }
   ],
   "source": [
    "#5\n",
    "a = [1, 2, 3, 4, 5]\n",
    "print(a[-1:]+a[:-1])"
   ]
  },
  {
   "cell_type": "code",
   "execution_count": 1,
   "metadata": {},
   "outputs": [
    {
     "name": "stdout",
     "output_type": "stream",
     "text": [
      "1\n",
      "4\n"
     ]
    }
   ],
   "source": [
    "#6\n",
    "a = [1, 2, 3, 3, 2, 4, 5, 5]\n",
    "for i in a:\n",
    "    c = 0\n",
    "    for j in range(len(a)):\n",
    "        if i == a[j]:\n",
    "            c += 1\n",
    "    if c == 1:\n",
    "        print (i)\n"
   ]
  },
  {
   "cell_type": "code",
   "execution_count": 2,
   "metadata": {},
   "outputs": [
    {
     "name": "stdout",
     "output_type": "stream",
     "text": [
      "3\n"
     ]
    }
   ],
   "source": [
    "#7\n",
    "a = [1, 1, 2, 3, 3, 3, 4, 4, 4]\n",
    "cc = 0\n",
    "for i in a:\n",
    "    c = 0\n",
    "    for j in a:\n",
    "        if i == j:\n",
    "            c += 1\n",
    "    if c > cc:\n",
    "        cc = c\n",
    "        c_i = i\n",
    "print (c_i)\n"
   ]
  },
  {
   "cell_type": "code",
   "execution_count": 14,
   "metadata": {},
   "outputs": [
    {
     "name": "stdout",
     "output_type": "stream",
     "text": [
      "According to all known laws of aviation, there is no way that a bee should be able to fly. Its wings are too small to get its fat little body off the ground. The bee, of course, flies anyways. Because bees don't care what humans think is impossible. \n",
      "4\n"
     ]
    }
   ],
   "source": [
    "#9\n",
    "alphabet_lower = ['a', 'b', 'c', 'd', 'e', 'f', 'g', 'h', 'i', 'j', 'k', 'l', 'm', 'n', 'o', 'p', 'q', 'r', 's', 't', 'u', 'v', 'w', 'x', 'y', 'z']\n",
    "alphabet_upper = [i.upper() for i in alphabet_lower]\n",
    "with open(\"input.txt\", \"r\") as f:\n",
    "    string = f.read()\n",
    "c = 0\n",
    "for i in range(len(string)-1):\n",
    "    t = 0\n",
    "    for j in alphabet_upper:\n",
    "        if string[i] != j:\n",
    "            t += 1\n",
    "    for j in alphabet_lower:\n",
    "        if string[i] != j:\n",
    "            t += 1\n",
    "    if t == 52 and string[i+1] == ' ' and string[i] != ',' and string[i] != ';' and string[i] != ':':\n",
    "        c += 1\n",
    "print (string)\n",
    "print (c)\n",
    "\n",
    "    "
   ]
  },
  {
   "cell_type": "code",
   "execution_count": 12,
   "metadata": {},
   "outputs": [
    {
     "name": "stdout",
     "output_type": "stream",
     "text": [
      "Мясо, просо, колесо, извините, а слово серсо\n",
      "Мяcясоcо, проcосоcо, коcолеcесоcо, извиcиниcитеcе, а слоcовоcо сеcерсоcо\n"
     ]
    }
   ],
   "source": [
    "#10\n",
    "sogl_l = ['б', 'в', 'г', 'д', 'ж', 'з', 'й', 'к', 'л', 'м', 'н', 'п', 'р', 'с', 'т', 'ф', 'х', 'ц', 'ч', 'ш', 'щ', 'ъ', 'ь']\n",
    "sogl_u = [i.upper() for i in sogl_l]\n",
    "glas_l = ['а', 'е', 'и', 'о', 'у', 'ё', 'э', 'ю', 'я', 'ы']\n",
    "glas_u = [i.upper() for i in glas_l]\n",
    "with open(\"input.txt\", \"r\") as f:\n",
    "    string = f.read()\n",
    "a = []\n",
    "p = 0\n",
    "print(string)\n",
    "for i in range(len(string)-1):\n",
    "    if (string[i] in sogl_l or string[i] in sogl_u) and (string[i+1] in glas_l or string[i+1] in glas_u) and p == 0:\n",
    "        a.append(string[i])\n",
    "        a.append(string[i+1])\n",
    "        a.append('c')\n",
    "        a.append(string[i+1])\n",
    "        p += 1\n",
    "    elif p == 0:\n",
    "        a.append(string[i])\n",
    "    else:\n",
    "        p -= 1\n",
    "if p == 0:\n",
    "    a.append(string[len(string)-1])\n",
    "print(''.join(a))"
   ]
  }
 ],
 "metadata": {
  "kernelspec": {
   "display_name": "Python 3",
   "language": "python",
   "name": "python3"
  },
  "language_info": {
   "codemirror_mode": {
    "name": "ipython",
    "version": 3
   },
   "file_extension": ".py",
   "mimetype": "text/x-python",
   "name": "python",
   "nbconvert_exporter": "python",
   "pygments_lexer": "ipython3",
   "version": "3.12.5"
  }
 },
 "nbformat": 4,
 "nbformat_minor": 2
}
