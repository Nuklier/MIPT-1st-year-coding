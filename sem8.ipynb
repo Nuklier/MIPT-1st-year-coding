{
 "cells": [
  {
   "cell_type": "code",
   "execution_count": null,
   "id": "0cc53178",
   "metadata": {},
   "outputs": [
    {
     "name": "stdout",
     "output_type": "stream",
     "text": [
      "907\n"
     ]
    }
   ],
   "source": [
    "# 1\n",
    "s = list(input().split(\"student_\"))\n",
    "s.pop(0)\n",
    "students, points = [], []\n",
    "for i in range(len(s)):\n",
    "    students.append(int(s[i]) // 100)\n",
    "    points.append(int(s[i]) % 100)\n",
    "\n",
    "max = -1\n",
    "for i in points:\n",
    "    if i > max:\n",
    "        max = i\n",
    "ans = []\n",
    "for i in range(len(s)):\n",
    "    if points[i] == max:\n",
    "        ans.append(str(students[i]))\n",
    "print(\"-\".join(ans))"
   ]
  },
  {
   "cell_type": "code",
   "execution_count": null,
   "id": "40c7fbc6",
   "metadata": {},
   "outputs": [
    {
     "name": "stdout",
     "output_type": "stream",
     "text": [
      "Длина окружности равна 12.566370614. Площадь круга составляет 139.63% от площади квадрата.\n"
     ]
    }
   ],
   "source": [
    "# 2\n",
    "pi = 3.1415926535\n",
    "r, a = map(int, input().split())\n",
    "l = 2 * pi * r\n",
    "s = pi * r * r\n",
    "A = a * a\n",
    "percentage = s / A * 100\n",
    "print(f\"Длина окружности равна {round(l, 2)}. Площадь круга составляет {round(percentage, 2)}% от площади квадрата.\")"
   ]
  },
  {
   "cell_type": "code",
   "execution_count": 24,
   "id": "78f6d6ea",
   "metadata": {},
   "outputs": [
    {
     "name": "stdout",
     "output_type": "stream",
     "text": [
      "bac-yxzqw\n"
     ]
    }
   ],
   "source": [
    "# 3\n",
    "a, b = input().split()\n",
    "a1 = a[:2]\n",
    "a2 = a[2:]\n",
    "b1 = b[:2]\n",
    "b2 = b[2:]\n",
    "a1, b1 = a1[::-1], b1[::-1]\n",
    "print(f\"{a1}{a2}-{b1}{b2}\")"
   ]
  },
  {
   "cell_type": "code",
   "execution_count": 32,
   "id": "8a2a0f4d",
   "metadata": {},
   "outputs": [
    {
     "name": "stdout",
     "output_type": "stream",
     "text": [
      "PYTHON3\n"
     ]
    }
   ],
   "source": [
    "# a = input().upper()s\n",
    "# 4\n",
    "a = input()\n",
    "if len(a) <= 3:\n",
    "    print(a)\n",
    "else:\n",
    "    aaaa = a[:4]\n",
    "    counter = 0\n",
    "    for i in aaaa:\n",
    "        if i.isupper():\n",
    "            counter += 1\n",
    "    if counter >= 3:\n",
    "        print(a.upper())\n",
    "    else:\n",
    "        print(a)"
   ]
  },
  {
   "cell_type": "code",
   "execution_count": 33,
   "id": "6d21f99b",
   "metadata": {},
   "outputs": [
    {
     "name": "stdout",
     "output_type": "stream",
     "text": [
      "<i>Python</i>\n"
     ]
    }
   ],
   "source": [
    "# 5\n",
    "tag = input()\n",
    "string = input()\n",
    "dict = ['a', 'abbr', 'b', 'body', 'caption', 'cite', 'code', 'div', 'form', 'h1', 'h2', 'h3', 'h4', 'h5', 'h6', 'header', 'i', 's']\n",
    "if tag in dict:\n",
    "    print(f\"<{tag}>{string}</{tag}>\")"
   ]
  },
  {
   "cell_type": "markdown",
   "id": "a498d4b6",
   "metadata": {},
   "source": [
    "<i>Python</i>"
   ]
  },
  {
   "cell_type": "code",
   "execution_count": 60,
   "id": "284edcbc",
   "metadata": {},
   "outputs": [
    {
     "name": "stdout",
     "output_type": "stream",
     "text": [
      "98\n"
     ]
    }
   ],
   "source": [
    "# 6\n",
    "string = input()\n",
    "if len(string) <= 2:\n",
    "    print(ord(string[0]))\n",
    "elif len(string) <= 10:\n",
    "    if len(string) % 2 == 1:\n",
    "        print(ord(string[0]) + ord(string[-1]) + ord(string[len(string)//2]))\n",
    "    else:\n",
    "        print(ord(string[0]) + ord(string[-1]) + ord(string[len(string)//2 - 1]))\n",
    "else:\n",
    "    print(ord(string[-1]))"
   ]
  }
 ],
 "metadata": {
  "kernelspec": {
   "display_name": "Python 3",
   "language": "python",
   "name": "python3"
  },
  "language_info": {
   "codemirror_mode": {
    "name": "ipython",
    "version": 3
   },
   "file_extension": ".py",
   "mimetype": "text/x-python",
   "name": "python",
   "nbconvert_exporter": "python",
   "pygments_lexer": "ipython3",
   "version": "3.12.5"
  }
 },
 "nbformat": 4,
 "nbformat_minor": 5
}
