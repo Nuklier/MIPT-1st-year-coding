{
 "cells": [
  {
   "cell_type": "code",
   "execution_count": 93,
   "metadata": {},
   "outputs": [
    {
     "name": "stdout",
     "output_type": "stream",
     "text": [
      "2\n"
     ]
    }
   ],
   "source": [
    "# 1\n",
    "n, m = list(map(int, input().split()))\n",
    "dp =[[0] * (m) for i in range(n)]\n",
    "if n < 2 or m < 2:\n",
    "    print(0)\n",
    "elif (n == 2 and m == 3) or (n == 3 and m == 2):\n",
    "    print(1)\n",
    "elif (n == 2 and m != 3) or (m == 2 and n != 3):\n",
    "    print(0)\n",
    "else:\n",
    "    dp[0][0] = 1\n",
    "    dp[1][2] = 1\n",
    "    dp[2][1] = 1\n",
    "    for i in range(2, n):\n",
    "        for j in range(2, m):\n",
    "            dp[i][j] = dp[i][j] + dp[i-1][j-2] + dp[i-2][j-1]\n",
    "    print(dp[-1][-1])\n",
    "    # print(dp)"
   ]
  },
  {
   "cell_type": "code",
   "execution_count": 36,
   "metadata": {},
   "outputs": [
    {
     "name": "stdout",
     "output_type": "stream",
     "text": [
      "5\n"
     ]
    }
   ],
   "source": [
    "# 2 \n",
    "n = int(input())\n",
    "dp = [0] * (n + 1)\n",
    "dp[1] = 0\n",
    "for i in range(2, n + 1):\n",
    "    if i % 3 == 0:\n",
    "        div3 = dp[i // 3]\n",
    "    else:\n",
    "        div3 = 20 * n\n",
    "    if i % 2 == 0:\n",
    "        div2 = dp[i // 2]\n",
    "    else:\n",
    "        div2 = 20 * n\n",
    "    dp[i] = min(dp[i-1], div3, div2) + 1\n",
    "print(dp[n])"
   ]
  },
  {
   "cell_type": "code",
   "execution_count": 73,
   "metadata": {},
   "outputs": [
    {
     "name": "stdout",
     "output_type": "stream",
     "text": [
      "[0, 0, 0, 0, 0, 0, 0, 0, 0, 0, 0, 0, 0, 0, 0]\n"
     ]
    }
   ],
   "source": [
    "# 2 еще раз, но с дп?????\n",
    "n = int(input())\n",
    "a = [0] * n\n",
    "a[0] = 1\n",
    "a[1] = 2\n",
    "a[2] = 3\n",
    "for i in range(3, n):\n",
    "    a[i] = a[i - 1] + a[i - 2]"
   ]
  },
  {
   "cell_type": "code",
   "execution_count": 75,
   "metadata": {},
   "outputs": [
    {
     "name": "stdout",
     "output_type": "stream",
     "text": [
      "[5, 6, 1, 3, 3]\n"
     ]
    }
   ],
   "source": [
    "# 3 НЕ РЕШЕН, ПЕРЕДЕЛАЙ\n",
    "n = int(input())\n",
    "a = list(map(int, input().split()))\n",
    "t = 0\n",
    "for i in a:\n",
    "    t = t + i\n",
    "if t % 3 != 0:\n",
    "    print(0)\n",
    "else:\n",
    "# надо из набора данных из массива получить len(a)//3, \n",
    "# оставшиеся занести в другой массив и сделать то же самое, \n",
    "# т е можно написать функцию проверки и юзать ее дважды"
   ]
  },
  {
   "cell_type": "code",
   "execution_count": 99,
   "metadata": {},
   "outputs": [
    {
     "ename": "KeyboardInterrupt",
     "evalue": "",
     "output_type": "error",
     "traceback": [
      "\u001b[1;31m---------------------------------------------------------------------------\u001b[0m",
      "\u001b[1;31mKeyboardInterrupt\u001b[0m                         Traceback (most recent call last)",
      "Cell \u001b[1;32mIn[99], line 14\u001b[0m\n\u001b[0;32m     10\u001b[0m a\u001b[38;5;241m.\u001b[39msort()\n\u001b[0;32m     11\u001b[0m \u001b[38;5;66;03m# sum уменьшается каждый раз,\u001b[39;00m\n\u001b[0;32m     12\u001b[0m \u001b[38;5;66;03m# когда мы не можем добавить в конце всего цикла\u001b[39;00m\n\u001b[0;32m     13\u001b[0m \u001b[38;5;66;03m# уменьшение - через вычет элемента (возможно - наибольшего)\u001b[39;00m\n\u001b[1;32m---> 14\u001b[0m \u001b[38;5;28;01mwhile\u001b[39;00m(t \u001b[38;5;241m!=\u001b[39m sd3 \u001b[38;5;129;01mor\u001b[39;00m \u001b[38;5;28msum\u001b[39m \u001b[38;5;241m!=\u001b[39m \u001b[38;5;241m0\u001b[39m):\n\u001b[0;32m     15\u001b[0m     \u001b[38;5;28;01mpass\u001b[39;00m\n",
      "\u001b[1;31mKeyboardInterrupt\u001b[0m: "
     ]
    }
   ],
   "source": [
    "# func for div3\n",
    "#let us assume that the summ of all % 3 == 0\n",
    "a = list(map(int, input().split()))\n",
    "# 5 6 1 3 3\n",
    "sum = 0\n",
    "for i in a:\n",
    "    sum += i\n",
    "sd3 = sum // 3\n",
    "t = 0\n",
    "a.sort()\n",
    "# sum уменьшается каждый раз,\n",
    "# когда мы не можем добавить в конце всего цикла\n",
    "# уменьшение - через вычет элемента (возможно - наибольшего)\n",
    "while(t != sd3 or sum != 0):\n",
    "    pass"
   ]
  },
  {
   "cell_type": "code",
   "execution_count": 22,
   "metadata": {},
   "outputs": [
    {
     "name": "stdout",
     "output_type": "stream",
     "text": [
      "12 5\n"
     ]
    }
   ],
   "source": [
    "# 4\n",
    "def lev(str_1, str_2):\n",
    "    n, m = len(str_1), len(str_2)\n",
    "    if n > m:\n",
    "        str_1, str_2 = str_2, str_1\n",
    "        n, m = m, n\n",
    "\n",
    "    current_row = range(n + 1)\n",
    "    for i in range(1, m + 1):\n",
    "        previous_row, current_row = current_row, [i] + [0] * n\n",
    "        for j in range(1, n + 1):\n",
    "            add, delete, change = previous_row[j] + 1, current_row[j - 1] + 1, previous_row[j - 1]\n",
    "            if str_1[j - 1] != str_2[i - 1]:\n",
    "                change += 1\n",
    "            current_row[j] = min(add, delete, change)\n",
    "    return current_row[n]\n",
    "\n",
    "text = input()\n",
    "word = input()\n",
    "dif = int(input())\n",
    "ans_i = -1\n",
    "lev_min = len(text) + 1\n",
    "for i in range(len(text)):\n",
    "    for j in range(len(text) - i):\n",
    "        if lev(text[j:(len(text)-i)], word) < lev_min and lev(text[j:(len(text)-i)], word) <= dif:\n",
    "            lev_min = len(text[j:(len(text)-i)])\n",
    "            ans_i = j\n",
    "print(str(ans_i) + \" \" + str(lev_min))\n",
    "            "
   ]
  },
  {
   "cell_type": "code",
   "execution_count": 33,
   "metadata": {},
   "outputs": [
    {
     "name": "stdout",
     "output_type": "stream",
     "text": [
      "3\n"
     ]
    }
   ],
   "source": [
    "# 5\n",
    "n, k = list(map(int, input().split()))\n",
    "a = []\n",
    "for i in range(n):\n",
    "    a.append(list(map(int, input().split())))\n",
    "dp = [[0 for j in range(k)] for i in range(n)]\n",
    "if a[0][0] == 1:\n",
    "    dp[0][0] = 1\n",
    "for i in range(n):\n",
    "    for j in range(k):\n",
    "        if a[i][j] == 1:\n",
    "            dp[i][j] = min(dp[i - 1][j], dp[i][j - 1], dp[i - 1][j - 1]) + 1\n",
    "mx = 0\n",
    "for i in range(n):\n",
    "        if(max(dp[i]) > mx):\n",
    "            mx = max(dp[i])\n",
    "print(mx)\n"
   ]
  },
  {
   "cell_type": "code",
   "execution_count": null,
   "metadata": {},
   "outputs": [],
   "source": [
    "def mb(bilets):\n",
    "    up = [0, 0, 0]\n",
    "    i = 0\n",
    "    j = 0\n",
    "    sredn = sum(bilets) // 3\n",
    "    while(i < len(bilets)):\n",
    "        while(j < 3):\n",
    "            if(up[j] + bilets[i] <= sredn):\n",
    "                up[j] += bilets[i]\n",
    "                bilets[i] = 0\n",
    "                j = 0\n",
    "                break\n",
    "            elif(bilets[i] != 0 and j == 2):\n",
    "                return 0\n",
    "            j += 1\n",
    "        i += 1\n",
    "    return 1\n",
    "\n",
    "\n",
    "s = int(input())\n",
    "bilets = list(map(int, input().split()))\n",
    "bilets.sort(key=None, reverse=True)\n",
    "print(mb(bilets))\n"
   ]
  },
  {
   "cell_type": "code",
   "execution_count": null,
   "metadata": {},
   "outputs": [],
   "source": [
    "n = int(input())\n",
    "a = list(map(int, input().split()))\n",
    "a.sort(reverse=True)\n",
    "t = 0 # mean\n",
    "for i in a:\n",
    "    t = t + i\n",
    "if t % 3 != 0:\n",
    "    print(0)\n",
    "else:\n",
    "    students = [0] * 3\n",
    "    i, j = 0, 0\n",
    "    while i < len(a):\n",
    "        while j < 3:\n",
    "            \n",
    "\n"
   ]
  }
 ],
 "metadata": {
  "kernelspec": {
   "display_name": "Python 3",
   "language": "python",
   "name": "python3"
  },
  "language_info": {
   "codemirror_mode": {
    "name": "ipython",
    "version": 3
   },
   "file_extension": ".py",
   "mimetype": "text/x-python",
   "name": "python",
   "nbconvert_exporter": "python",
   "pygments_lexer": "ipython3",
   "version": "3.12.5"
  }
 },
 "nbformat": 4,
 "nbformat_minor": 2
}
