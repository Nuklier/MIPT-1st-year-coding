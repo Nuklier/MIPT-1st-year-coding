{
 "cells": [
  {
   "cell_type": "code",
   "execution_count": 5,
   "metadata": {},
   "outputs": [
    {
     "ename": "IndexError",
     "evalue": "list index out of range",
     "output_type": "error",
     "traceback": [
      "\u001b[1;31m---------------------------------------------------------------------------\u001b[0m",
      "\u001b[1;31mIndexError\u001b[0m                                Traceback (most recent call last)",
      "Cell \u001b[1;32mIn[5], line 85\u001b[0m\n\u001b[0;32m     83\u001b[0m     minHeap\u001b[38;5;241m.\u001b[39minsert(a[i])\n\u001b[0;32m     84\u001b[0m minHeap\u001b[38;5;241m.\u001b[39mgrandChildrenCheck\n\u001b[1;32m---> 85\u001b[0m \u001b[43mminHeap\u001b[49m\u001b[38;5;241;43m.\u001b[39;49m\u001b[43mminHeap\u001b[49m\u001b[43m(\u001b[49m\u001b[43m)\u001b[49m\n\u001b[0;32m     86\u001b[0m c \u001b[38;5;241m=\u001b[39m []\n\u001b[0;32m     87\u001b[0m \u001b[38;5;28;01mfor\u001b[39;00m i \u001b[38;5;129;01min\u001b[39;00m \u001b[38;5;28mrange\u001b[39m(k):\n",
      "Cell \u001b[1;32mIn[5], line 29\u001b[0m, in \u001b[0;36mMinHeap.minHeap\u001b[1;34m(self)\u001b[0m\n\u001b[0;32m     27\u001b[0m \u001b[38;5;28;01mdef\u001b[39;00m \u001b[38;5;21mminHeap\u001b[39m(\u001b[38;5;28mself\u001b[39m):\n\u001b[0;32m     28\u001b[0m     \u001b[38;5;28;01mfor\u001b[39;00m pos \u001b[38;5;129;01min\u001b[39;00m \u001b[38;5;28mrange\u001b[39m(\u001b[38;5;28mself\u001b[39m\u001b[38;5;241m.\u001b[39msize\u001b[38;5;241m/\u001b[39m\u001b[38;5;241m/\u001b[39m\u001b[38;5;241m2\u001b[39m, \u001b[38;5;241m0\u001b[39m, \u001b[38;5;241m-\u001b[39m\u001b[38;5;241m1\u001b[39m): \n\u001b[1;32m---> 29\u001b[0m         \u001b[38;5;28;43mself\u001b[39;49m\u001b[38;5;241;43m.\u001b[39;49m\u001b[43mminHeapify\u001b[49m\u001b[43m(\u001b[49m\u001b[43mpos\u001b[49m\u001b[43m)\u001b[49m\n",
      "Cell \u001b[1;32mIn[5], line 34\u001b[0m, in \u001b[0;36mMinHeap.minHeapify\u001b[1;34m(self, pos)\u001b[0m\n\u001b[0;32m     31\u001b[0m \u001b[38;5;28;01mdef\u001b[39;00m \u001b[38;5;21mminHeapify\u001b[39m(\u001b[38;5;28mself\u001b[39m, pos):\n\u001b[0;32m     32\u001b[0m     \u001b[38;5;28;01mif\u001b[39;00m \u001b[38;5;129;01mnot\u001b[39;00m \u001b[38;5;28mself\u001b[39m\u001b[38;5;241m.\u001b[39misLeaf(pos): \n\u001b[0;32m     33\u001b[0m         \u001b[38;5;28;01mif\u001b[39;00m (\u001b[38;5;28mself\u001b[39m\u001b[38;5;241m.\u001b[39mHeap[pos] \u001b[38;5;241m>\u001b[39m \u001b[38;5;28mself\u001b[39m\u001b[38;5;241m.\u001b[39mHeap[\u001b[38;5;28mself\u001b[39m\u001b[38;5;241m.\u001b[39mleftChild(pos)] \u001b[38;5;129;01mor\u001b[39;00m \n\u001b[1;32m---> 34\u001b[0m            \u001b[38;5;28mself\u001b[39m\u001b[38;5;241m.\u001b[39mHeap[pos] \u001b[38;5;241m>\u001b[39m \u001b[38;5;28;43mself\u001b[39;49m\u001b[38;5;241;43m.\u001b[39;49m\u001b[43mHeap\u001b[49m\u001b[43m[\u001b[49m\u001b[38;5;28;43mself\u001b[39;49m\u001b[38;5;241;43m.\u001b[39;49m\u001b[43mrightChild\u001b[49m\u001b[43m(\u001b[49m\u001b[43mpos\u001b[49m\u001b[43m)\u001b[49m\u001b[43m]\u001b[49m):\n\u001b[0;32m     35\u001b[0m             \u001b[38;5;28;01mif\u001b[39;00m \u001b[38;5;28mself\u001b[39m\u001b[38;5;241m.\u001b[39mHeap[\u001b[38;5;28mself\u001b[39m\u001b[38;5;241m.\u001b[39mleftChild(pos)] \u001b[38;5;241m<\u001b[39m \u001b[38;5;28mself\u001b[39m\u001b[38;5;241m.\u001b[39mHeap[\u001b[38;5;28mself\u001b[39m\u001b[38;5;241m.\u001b[39mrightChild(pos)]:\n\u001b[0;32m     36\u001b[0m                 \u001b[38;5;28mself\u001b[39m\u001b[38;5;241m.\u001b[39mswap(pos, \u001b[38;5;28mself\u001b[39m\u001b[38;5;241m.\u001b[39mleftChild(pos)) \n",
      "\u001b[1;31mIndexError\u001b[0m: list index out of range"
     ]
    }
   ],
   "source": [
    "# 1\n",
    "\n",
    "class MinHeap: \n",
    "  \n",
    "    def __init__(self, maxsize): \n",
    "        self.maxsize = maxsize \n",
    "        self.size = 0\n",
    "        self.Heap = [0] * (self.maxsize + 1) \n",
    "        self.Heap[0] = -1 * 1e10\n",
    "        self.FRONT = 1\n",
    "  \n",
    "    def parent(self, pos): \n",
    "        return pos // 2\n",
    "  \n",
    "    def leftChild(self, pos): \n",
    "        return 2 * pos \n",
    "  \n",
    "    def rightChild(self, pos): \n",
    "        return (2 * pos) + 1\n",
    "  \n",
    "    def isLeaf(self, pos): \n",
    "        return pos * 2 > self.size \n",
    "  \n",
    "    def swap(self, fpos, spos): \n",
    "        self.Heap[fpos], self.Heap[spos] = self.Heap[spos], self.Heap[fpos] \n",
    "  \n",
    "    def minHeap(self):\n",
    "        for pos in range(self.size//2, 0, -1): \n",
    "            self.minHeapify(pos) \n",
    "    \n",
    "    def minHeapify(self, pos):\n",
    "        if not self.isLeaf(pos): \n",
    "            if (self.Heap[pos] > self.Heap[self.leftChild(pos)] or \n",
    "               self.Heap[pos] > self.Heap[self.rightChild(pos)]):\n",
    "                if self.Heap[self.leftChild(pos)] < self.Heap[self.rightChild(pos)]:\n",
    "                    self.swap(pos, self.leftChild(pos)) \n",
    "                    self.minHeapify(self.leftChild(pos)) \n",
    "                else: \n",
    "                    self.swap(pos, self.rightChild(pos)) \n",
    "                    self.minHeapify(self.rightChild(pos)) \n",
    "  \n",
    "    def insert(self, element): \n",
    "        if self.size >= self.maxsize : \n",
    "            return\n",
    "        self.size += 1\n",
    "        self.Heap[self.size] = element \n",
    "        current = self.size \n",
    "        while self.Heap[current] < self.Heap[self.parent(current)]: \n",
    "            self.swap(current, self.parent(current)) \n",
    "            current = self.parent(current) \n",
    "  \n",
    "    def print_heap(self): \n",
    "        for i in range(1, (self.size // 2) + 1): \n",
    "            print(\" PARENT : \" + str(self.Heap[i]) + \" LEFT CHILD : \" + \n",
    "                                str(self.Heap[2 * i]) + \" RIGHT CHILD : \" +\n",
    "                                str(self.Heap[2 * i + 1])) \n",
    "  \n",
    "    \n",
    "    def remove_head(self): \n",
    "  \n",
    "        popped = self.Heap[self.FRONT] \n",
    "        self.Heap[self.FRONT] = self.Heap[self.size] \n",
    "        self.size-= 1\n",
    "        self.minHeapify(self.FRONT) \n",
    "        return popped\n",
    "    \n",
    "    def childrenCheck(self):\n",
    "        if not self.isLeaf():\n",
    "            if not(self.Heap(self.leftChild)==None and self.Heap(self.rightChild)==None):\n",
    "                if self.Heap(self.leftChild)==None:\n",
    "                    self.leftChild.Heap = 1000000000\n",
    "                else:\n",
    "                    self.rightChild.Heap = 1000000000\n",
    "    def grandChildrenCheck(self):\n",
    "        self.childrenCheck\n",
    "        self.Heap[self.leftChild].grandChildrenCheck\n",
    "        self.Heap[self.rightChild].grandChildrenCheck\n",
    "    \n",
    "n, k = map(int, input().split())\n",
    "a = list(map(int, input().split()))\n",
    "minHeap = MinHeap(n) \n",
    "for i in range(0, len(a)):\n",
    "    minHeap.insert(a[i])\n",
    "minHeap.grandChildrenCheck\n",
    "minHeap.minHeap()\n",
    "c = []\n",
    "for i in range(k):\n",
    "    c.append(minHeap.remove_head())\n",
    "print(*c)\n",
    "\n",
    "# 92 67 70 59 96 84 92 76 53 100 69 49 57 10 45 24 7 15 65 1 70 89 71 40 64 60 77 27 3 20 1 91 95 40 97 30 53 54 96 50 85 82 21 1 9 80 59 86 23 17 63\n",
    "\n",
    "# 1 1 1 3 7 9 10 15 17 20"
   ]
  },
  {
   "cell_type": "code",
   "execution_count": null,
   "metadata": {},
   "outputs": [],
   "source": [
    "# проверка на время\n",
    "from time import time\n",
    "t0 = time()\n",
    "#код\n",
    "print(time() - t0)"
   ]
  },
  {
   "cell_type": "code",
   "execution_count": null,
   "metadata": {},
   "outputs": [],
   "source": [
    "# если n != k : вывести k, сортировать k, проходом по n начиная с k + 1 проверять с k-м, если меньше - свапнуть k и i, заново засортить первые k\n",
    "# если n == k - вывести сорченный массив просто"
   ]
  },
  {
   "cell_type": "code",
   "execution_count": 22,
   "metadata": {},
   "outputs": [
    {
     "ename": "TypeError",
     "evalue": "unsupported operand type(s) for *: 'method' and 'int'",
     "output_type": "error",
     "traceback": [
      "\u001b[1;31m---------------------------------------------------------------------------\u001b[0m",
      "\u001b[1;31mTypeError\u001b[0m                                 Traceback (most recent call last)",
      "Cell \u001b[1;32mIn[22], line 83\u001b[0m\n\u001b[0;32m     81\u001b[0m mh\u001b[38;5;241m.\u001b[39minsert(\u001b[38;5;241m3\u001b[39m)\n\u001b[0;32m     82\u001b[0m mh\u001b[38;5;241m.\u001b[39minsert(\u001b[38;5;241m2\u001b[39m)\n\u001b[1;32m---> 83\u001b[0m \u001b[43mmh\u001b[49m\u001b[38;5;241;43m.\u001b[39;49m\u001b[43mgrandChildrenCheck\u001b[49m\u001b[43m(\u001b[49m\u001b[38;5;241;43m2\u001b[39;49m\u001b[43m)\u001b[49m\n\u001b[0;32m     84\u001b[0m mh\u001b[38;5;241m.\u001b[39mprint_heap()\n",
      "Cell \u001b[1;32mIn[22], line 75\u001b[0m, in \u001b[0;36mMinHeap.grandChildrenCheck\u001b[1;34m(self, pos)\u001b[0m\n\u001b[0;32m     73\u001b[0m \u001b[38;5;28;01mdef\u001b[39;00m \u001b[38;5;21mgrandChildrenCheck\u001b[39m(\u001b[38;5;28mself\u001b[39m, pos):\n\u001b[0;32m     74\u001b[0m     \u001b[38;5;28mself\u001b[39m\u001b[38;5;241m.\u001b[39mchildrenCheck(pos)\n\u001b[1;32m---> 75\u001b[0m     \u001b[38;5;28;43mself\u001b[39;49m\u001b[38;5;241;43m.\u001b[39;49m\u001b[43mgrandChildrenCheck\u001b[49m\u001b[43m(\u001b[49m\u001b[38;5;28;43mself\u001b[39;49m\u001b[38;5;241;43m.\u001b[39;49m\u001b[43mleftChild\u001b[49m\u001b[43m)\u001b[49m\n\u001b[0;32m     76\u001b[0m     \u001b[38;5;28mself\u001b[39m\u001b[38;5;241m.\u001b[39mgrandChildrenCheck(\u001b[38;5;28mself\u001b[39m\u001b[38;5;241m.\u001b[39mrightChild)\n",
      "Cell \u001b[1;32mIn[22], line 74\u001b[0m, in \u001b[0;36mMinHeap.grandChildrenCheck\u001b[1;34m(self, pos)\u001b[0m\n\u001b[0;32m     73\u001b[0m \u001b[38;5;28;01mdef\u001b[39;00m \u001b[38;5;21mgrandChildrenCheck\u001b[39m(\u001b[38;5;28mself\u001b[39m, pos):\n\u001b[1;32m---> 74\u001b[0m     \u001b[38;5;28;43mself\u001b[39;49m\u001b[38;5;241;43m.\u001b[39;49m\u001b[43mchildrenCheck\u001b[49m\u001b[43m(\u001b[49m\u001b[43mpos\u001b[49m\u001b[43m)\u001b[49m\n\u001b[0;32m     75\u001b[0m     \u001b[38;5;28mself\u001b[39m\u001b[38;5;241m.\u001b[39mgrandChildrenCheck(\u001b[38;5;28mself\u001b[39m\u001b[38;5;241m.\u001b[39mleftChild)\n\u001b[0;32m     76\u001b[0m     \u001b[38;5;28mself\u001b[39m\u001b[38;5;241m.\u001b[39mgrandChildrenCheck(\u001b[38;5;28mself\u001b[39m\u001b[38;5;241m.\u001b[39mrightChild)\n",
      "Cell \u001b[1;32mIn[22], line 66\u001b[0m, in \u001b[0;36mMinHeap.childrenCheck\u001b[1;34m(self, pos)\u001b[0m\n\u001b[0;32m     65\u001b[0m \u001b[38;5;28;01mdef\u001b[39;00m \u001b[38;5;21mchildrenCheck\u001b[39m(\u001b[38;5;28mself\u001b[39m, pos):\n\u001b[1;32m---> 66\u001b[0m     \u001b[38;5;28;01mif\u001b[39;00m \u001b[38;5;129;01mnot\u001b[39;00m \u001b[38;5;28;43mself\u001b[39;49m\u001b[38;5;241;43m.\u001b[39;49m\u001b[43misLeaf\u001b[49m\u001b[43m(\u001b[49m\u001b[43mpos\u001b[49m\u001b[43m)\u001b[49m:\n\u001b[0;32m     67\u001b[0m         \u001b[38;5;28;01mif\u001b[39;00m \u001b[38;5;129;01mnot\u001b[39;00m(\u001b[38;5;28mself\u001b[39m\u001b[38;5;241m.\u001b[39mHeap[\u001b[38;5;28mself\u001b[39m\u001b[38;5;241m.\u001b[39mleftChild(pos)]\u001b[38;5;241m==\u001b[39m\u001b[38;5;28;01mNone\u001b[39;00m \u001b[38;5;129;01mand\u001b[39;00m \u001b[38;5;28mself\u001b[39m\u001b[38;5;241m.\u001b[39mHeap[\u001b[38;5;28mself\u001b[39m\u001b[38;5;241m.\u001b[39mrightChild(pos)]\u001b[38;5;241m==\u001b[39m\u001b[38;5;28;01mNone\u001b[39;00m):\n\u001b[0;32m     68\u001b[0m             \u001b[38;5;28;01mif\u001b[39;00m \u001b[38;5;28mself\u001b[39m\u001b[38;5;241m.\u001b[39mHeap[\u001b[38;5;28mself\u001b[39m\u001b[38;5;241m.\u001b[39mleftChild(pos)]\u001b[38;5;241m==\u001b[39m\u001b[38;5;28;01mNone\u001b[39;00m:\n",
      "Cell \u001b[1;32mIn[22], line 20\u001b[0m, in \u001b[0;36mMinHeap.isLeaf\u001b[1;34m(self, pos)\u001b[0m\n\u001b[0;32m     19\u001b[0m \u001b[38;5;28;01mdef\u001b[39;00m \u001b[38;5;21misLeaf\u001b[39m(\u001b[38;5;28mself\u001b[39m, pos): \n\u001b[1;32m---> 20\u001b[0m     \u001b[38;5;28;01mreturn\u001b[39;00m \u001b[43mpos\u001b[49m\u001b[43m \u001b[49m\u001b[38;5;241;43m*\u001b[39;49m\u001b[43m \u001b[49m\u001b[38;5;241;43m2\u001b[39;49m \u001b[38;5;241m>\u001b[39m \u001b[38;5;28mself\u001b[39m\u001b[38;5;241m.\u001b[39msize\n",
      "\u001b[1;31mTypeError\u001b[0m: unsupported operand type(s) for *: 'method' and 'int'"
     ]
    }
   ],
   "source": [
    "\n",
    "class MinHeap: \n",
    "  \n",
    "    def __init__(self, maxsize): \n",
    "        self.maxsize = maxsize \n",
    "        self.size = 0\n",
    "        self.Heap = [0] * (self.maxsize + 1) \n",
    "        self.Heap[0] = -1 * 1e10\n",
    "        self.FRONT = 1\n",
    "  \n",
    "    def parent(self, pos): \n",
    "        return pos // 2\n",
    "  \n",
    "    def leftChild(self, pos): \n",
    "        return 2 * pos \n",
    "  \n",
    "    def rightChild(self, pos): \n",
    "        return (2 * pos) + 1\n",
    "  \n",
    "    def isLeaf(self, pos): \n",
    "        return pos * 2 > self.size \n",
    "  \n",
    "    def swap(self, fpos, spos): \n",
    "        self.Heap[fpos], self.Heap[spos] = self.Heap[spos], self.Heap[fpos] \n",
    "  \n",
    "    def minHeap(self):\n",
    "        for pos in range(self.size//2, 0, -1): \n",
    "            self.minHeapify(pos) \n",
    "    \n",
    "    def minHeapify(self, pos):\n",
    "        if not self.isLeaf(pos): \n",
    "            if (self.Heap[pos] > self.Heap[self.leftChild(pos)] or \n",
    "               self.Heap[pos] > self.Heap[self.rightChild(pos)]):\n",
    "                if self.Heap[self.leftChild(pos)] < self.Heap[self.rightChild(pos)]:\n",
    "                    self.swap(pos, self.leftChild(pos)) \n",
    "                    self.minHeapify(self.leftChild(pos)) \n",
    "                else: \n",
    "                    self.swap(pos, self.rightChild(pos)) \n",
    "                    self.minHeapify(self.rightChild(pos)) \n",
    "  \n",
    "    def insert(self, element): \n",
    "        if self.size >= self.maxsize : \n",
    "            return\n",
    "        self.size += 1\n",
    "        self.Heap[self.size] = element \n",
    "        current = self.size \n",
    "        while self.Heap[current] < self.Heap[self.parent(current)]: \n",
    "            self.swap(current, self.parent(current)) \n",
    "            current = self.parent(current) \n",
    "  \n",
    "    def print_heap(self): \n",
    "        for i in range(1, (self.size // 2) + 1): \n",
    "            print(\" PARENT : \" + str(self.Heap[i]) + \" LEFT CHILD : \" + \n",
    "                                str(self.Heap[2 * i]) + \" RIGHT CHILD : \" +\n",
    "                                str(self.Heap[2 * i + 1])) \n",
    "  \n",
    "    \n",
    "    def remove_head(self): \n",
    "  \n",
    "        popped = self.Heap[self.FRONT] \n",
    "        self.Heap[self.FRONT] = self.Heap[self.size] \n",
    "        self.size-= 1\n",
    "        self.minHeapify(self.FRONT) \n",
    "        return popped\n",
    "    \n",
    "    def childrenCheck(self, pos):\n",
    "        if not self.isLeaf(pos):\n",
    "            if not(self.Heap[self.leftChild(pos)]==None and self.Heap[self.rightChild(pos)]==None):\n",
    "                if self.Heap[self.leftChild(pos)]==None:\n",
    "                    self.Heap[self.leftChild(pos)] = 1000000000\n",
    "                else:\n",
    "                    self.Heap[self.rightChild(pos)]= 1000000000\n",
    "        return\n",
    "    def grandChildrenCheck(self, pos):\n",
    "        self.childrenCheck(pos)\n",
    "        self.grandChildrenCheck(self.leftChild)\n",
    "        self.grandChildrenCheck(self.rightChild)\n",
    "\n",
    "mh = MinHeap(100)\n",
    "mh.insert(1)\n",
    "mh.insert(4)\n",
    "mh.insert(3)\n",
    "mh.insert(2)\n",
    "mh.grandChildrenCheck(2)\n",
    "mh.print_heap()"
   ]
  },
  {
   "cell_type": "code",
   "execution_count": null,
   "metadata": {},
   "outputs": [
    {
     "ename": "TypeError",
     "evalue": "unsupported operand type(s) for +=: 'generator' and 'int'",
     "output_type": "error",
     "traceback": [
      "\u001b[1;31m---------------------------------------------------------------------------\u001b[0m",
      "\u001b[1;31mTypeError\u001b[0m                                 Traceback (most recent call last)",
      "Cell \u001b[1;32mIn[31], line 34\u001b[0m\n\u001b[0;32m     32\u001b[0m copy \u001b[38;5;241m=\u001b[39m [\u001b[38;5;241m0\u001b[39m]\n\u001b[0;32m     33\u001b[0m copy\u001b[38;5;241m.\u001b[39mappend(i \u001b[38;5;28;01mfor\u001b[39;00m i \u001b[38;5;129;01min\u001b[39;00m origin)\n\u001b[1;32m---> 34\u001b[0m \u001b[43mbuild\u001b[49m\u001b[43m(\u001b[49m\u001b[43mcopy\u001b[49m\u001b[43m,\u001b[49m\u001b[43m \u001b[49m\u001b[43mln\u001b[49m\u001b[43m)\u001b[49m\n\u001b[0;32m     35\u001b[0m \u001b[38;5;28mprint\u001b[39m(\u001b[38;5;241m*\u001b[39morigin)\n\u001b[0;32m     36\u001b[0m \u001b[38;5;28mprint\u001b[39m(\u001b[38;5;241m*\u001b[39mcopy)\n",
      "Cell \u001b[1;32mIn[31], line 13\u001b[0m, in \u001b[0;36mbuild\u001b[1;34m(a, n)\u001b[0m\n\u001b[0;32m     11\u001b[0m \u001b[38;5;28;01mdef\u001b[39;00m \u001b[38;5;21mbuild\u001b[39m(a, n):\n\u001b[0;32m     12\u001b[0m     \u001b[38;5;28;01mfor\u001b[39;00m i \u001b[38;5;129;01min\u001b[39;00m \u001b[38;5;28mrange\u001b[39m(\u001b[38;5;241m0\u001b[39m, n):\n\u001b[1;32m---> 13\u001b[0m         \u001b[43mmodify\u001b[49m\u001b[43m(\u001b[49m\u001b[43ma\u001b[49m\u001b[43m,\u001b[49m\u001b[43m \u001b[49m\u001b[43mi\u001b[49m\u001b[43m,\u001b[49m\u001b[43m \u001b[49m\u001b[43ma\u001b[49m\u001b[43m[\u001b[49m\u001b[43mi\u001b[49m\u001b[43m]\u001b[49m\u001b[43m)\u001b[49m\n",
      "Cell \u001b[1;32mIn[31], line 8\u001b[0m, in \u001b[0;36mmodify\u001b[1;34m(t, i, d)\u001b[0m\n\u001b[0;32m      6\u001b[0m \u001b[38;5;28;01mdef\u001b[39;00m \u001b[38;5;21mmodify\u001b[39m(t, i, d):\n\u001b[0;32m      7\u001b[0m     \u001b[38;5;28;01mwhile\u001b[39;00m i \u001b[38;5;241m<\u001b[39m \u001b[38;5;28mlen\u001b[39m(t):\n\u001b[1;32m----> 8\u001b[0m         \u001b[43mt\u001b[49m\u001b[43m[\u001b[49m\u001b[43mi\u001b[49m\u001b[43m]\u001b[49m\u001b[43m \u001b[49m\u001b[38;5;241;43m+\u001b[39;49m\u001b[38;5;241;43m=\u001b[39;49m\u001b[43m \u001b[49m\u001b[43md\u001b[49m\n\u001b[0;32m      9\u001b[0m         i \u001b[38;5;241m=\u001b[39m i \u001b[38;5;241m|\u001b[39m (i \u001b[38;5;241m+\u001b[39m \u001b[38;5;241m1\u001b[39m)\n",
      "\u001b[1;31mTypeError\u001b[0m: unsupported operand type(s) for +=: 'generator' and 'int'"
     ]
    }
   ],
   "source": [
    "# 6\n",
    "# https://ru.algorithmica.org/cs/range-queries/fenwick/\n",
    "def f(x):\n",
    "    return (x and (x + 1))\n",
    "\n",
    "def modify(t, i, d):\n",
    "    while i < len(t):\n",
    "        t[i] += d\n",
    "        i = i | (i + 1)\n",
    "        \n",
    "def build(a, n):\n",
    "    for i in range(0, n):\n",
    "        modify(a, i, a[i])\n",
    "\n",
    "def sum(copy, origin, i):\n",
    "    result = 0\n",
    "   \n",
    "    while i >= 0:\n",
    "        p = origin[i]\n",
    "        if p > origin[i]:\n",
    "            result += copy[i]\n",
    "        i = f(i) - 1\n",
    "    return result\n",
    "\n",
    "def Sum(i, j, copy, origin):\n",
    "    return sum(copy, origin, j) - sum(copy, origin, i - 1)\n",
    "\n",
    "tests = int(input())\n",
    "for i in range(tests):\n",
    "    ln = int(input())\n",
    "    origin = list(map(int, input().split()))\n",
    "    copy = [0]\n",
    "    copy.append()i for i in origin)\n",
    "    build(copy, ln)\n",
    "    print(*origin)\n",
    "    print(*copy)\n",
    "    print(Sum(0, ln - 1, copy, origin))\n",
    "\n"
   ]
  },
  {
   "cell_type": "code",
   "execution_count": 40,
   "metadata": {},
   "outputs": [
    {
     "name": "stdout",
     "output_type": "stream",
     "text": [
      "AAAAAAAAAAAAAAAAAAAAAAAAAAAAA\n"
     ]
    }
   ],
   "source": [
    "# 3\n",
    "class Node:\n",
    "    def __init__(self, key=None, left=None, right=None):\n",
    "        self.key = key\n",
    "        self.left = left\n",
    "        self.right = right\n",
    "\n",
    "    def isLeaf(self):\n",
    "        return self.left is None and self.right is None\n",
    "\n",
    "    def insert(self, new): # new != self.key по условию\n",
    "        if self.isLeaf():\n",
    "            self.left = Node(new)\n",
    "        if new < self.key:\n",
    "            return self.left.insert(new)\n",
    "        #elif new > self.key:\n",
    "        #    return self.right.insert(new)\n",
    "        else:\n",
    "            print(\"AAAAAAAAAAAAAAAAAAAAAAAAAAAAA\")\n",
    "        \n",
    "\n",
    "\n",
    "\n",
    "ln = int(input())\n",
    "a = list(set(list(map(int, input().split()))))\n",
    "x = Node(a[0])\n",
    "for i in range(1, ln):\n",
    "    x.insert(a[i])\n",
    "\n"
   ]
  },
  {
   "cell_type": "code",
   "execution_count": 3,
   "metadata": {},
   "outputs": [
    {
     "ename": "SyntaxError",
     "evalue": "'function call' is an illegal expression for augmented assignment (1683458114.py, line 8)",
     "output_type": "error",
     "traceback": [
      "\u001b[1;36m  Cell \u001b[1;32mIn[3], line 8\u001b[1;36m\u001b[0m\n\u001b[1;33m    offices.index(min(offices)) += queuepoint\u001b[0m\n\u001b[1;37m    ^\u001b[0m\n\u001b[1;31mSyntaxError\u001b[0m\u001b[1;31m:\u001b[0m 'function call' is an illegal expression for augmented assignment\n"
     ]
    }
   ],
   "source": [
    "# 2 another day, another time\n",
    "\n",
    "n, m = map(int, input().split())\n",
    "a = list(map(int, input().split()))\n",
    "offices = [0] * m\n",
    "for i in range(n):\n",
    "    queuepoint = a[i]\n",
    "    freecrap = min(offices)\n",
    "    idx = offices.index(freecrap)\n",
    "    offices[idx] += queuepoint\n",
    "print(max(offices))"
   ]
  },
  {
   "cell_type": "code",
   "execution_count": 6,
   "metadata": {},
   "outputs": [
    {
     "name": "stdout",
     "output_type": "stream",
     "text": [
      "7\n"
     ]
    }
   ],
   "source": [
    "n, m = map(int, input().split())\n",
    "ppl, offices = list(map(int, input().split())), [0] * m\n",
    "for i in range(n):\n",
    "    queuepoint = ppl[i]\n",
    "    offices[offices.index(min(offices))] += queuepoint\n",
    "print(max(offices))"
   ]
  },
  {
   "cell_type": "code",
   "execution_count": 68,
   "metadata": {},
   "outputs": [
    {
     "name": "stdout",
     "output_type": "stream",
     "text": [
      "[0, 0, 1]\n"
     ]
    }
   ],
   "source": [
    "# 6 \n",
    "\n",
    "def f(i):\n",
    "    return i & (i + 1)\n",
    "\n",
    "def g(i):\n",
    "    return i | (i + 1)\n",
    "\n",
    "def build(array):\n",
    "    brray = [0] * len(array)\n",
    "    for i in range(len(array)):\n",
    "        t = f(i)\n",
    "        for j in range(t, i):\n",
    "            brray[i] += array[j]\n",
    "    return brray\n",
    "\n",
    "def modify(array, index, element):\n",
    "    x = index\n",
    "    while g(x) < len(array):\n",
    "        array[g(x)] += element\n",
    "        x = g(x) + 1\n",
    "\n",
    "\n",
    "\n",
    "\"\"\"testcount = int(input())\n",
    "for tests in range(testcount):\n",
    "    steps_number = int(input())\n",
    "    steps = list(map(int, input().split()))\n",
    "    build(steps)\n",
    "    s = 0\n",
    "    for i in range(steps_number):\n",
    "        s = sum(steps, i) - s\n",
    "        print(s)\"\"\"\n",
    "\n",
    "a = [1, 2, 3]\n",
    "b = build(a)\n",
    "print(b)\n",
    "\n"
   ]
  },
  {
   "cell_type": "code",
   "execution_count": null,
   "metadata": {},
   "outputs": [
    {
     "name": "stdout",
     "output_type": "stream",
     "text": [
      "19\n"
     ]
    }
   ],
   "source": [
    "def f(i):\n",
    "    return i & (i + 1)\n",
    "\n",
    "def g(i):\n",
    "    return i | (i + 1)\n",
    "\n",
    "def modify(array, summs, k, d):\n",
    "    while k < len(array):\n",
    "        summs[k] += d\n",
    "        k = g(k)\n",
    "\n",
    "def sum(array, right):\n",
    "    result = 0\n",
    "    while right >= 0:\n",
    "        result += array[right]\n",
    "        right = f(right) - 1\n",
    "    return result\n",
    "    \n",
    "\n",
    "testcount = int(input())\n",
    "for i in range(testcount):\n",
    "    stepcount = int(input())\n",
    "    steps = list(map(int, input().split()))\n",
    "    t = [0] * len(steps)\n",
    "    for i in range(0, len(steps)):\n",
    "        modify(steps, t, i, steps[i])\n",
    "\n",
    "\n",
    "print(sum(t, len(t) - 1))\n",
    "\n",
    "    \n"
   ]
  },
  {
   "cell_type": "code",
   "execution_count": null,
   "metadata": {},
   "outputs": [],
   "source": [
    "class tree():\n",
    "\n",
    "\n",
    "ln = int(input())\n",
    "a = list(map(int, input().split()))"
   ]
  },
  {
   "cell_type": "code",
   "execution_count": 124,
   "metadata": {},
   "outputs": [
    {
     "name": "stdout",
     "output_type": "stream",
     "text": [
      "8\n",
      "56\n",
      "9\n"
     ]
    }
   ],
   "source": [
    "def righter(array, p):\n",
    "        t=0\n",
    "        for i in range(p, len(array)):\n",
    "            if array[i] > array[p]:\n",
    "                t += 1\n",
    "        return t\n",
    "\n",
    "\n",
    "\n",
    "tests = int(input())\n",
    "for k in range(tests):\n",
    "    \n",
    "    ln = int(input())\n",
    "    a = list(map(int, input().split()))\n",
    "    b = [0] * (ln + 1)\n",
    "    c = [0] * ln\n",
    "    for i in range(ln):\n",
    "        b[i] = righter(a, i)\n",
    "    s = 0\n",
    "    for i in range(ln):\n",
    "        s += a[i] * b[i]\n",
    "    print(s)"
   ]
  },
  {
   "cell_type": "code",
   "execution_count": null,
   "metadata": {},
   "outputs": [],
   "source": [
    "def righter(array, p):\n",
    "        t=0\n",
    "        for i in range(p, len(array)):\n",
    "            if array[i] > array[p]:\n",
    "                t += 1\n",
    "        return t\n",
    "\n",
    "\n",
    "\n",
    "tests = int(input())\n",
    "for k in range(tests):\n",
    "    \n",
    "    ln = int(input())\n",
    "    a = list(map(int, input().split()))\n",
    "    b = [0] * (ln + 1)\n",
    "    c = [0] * ln\n",
    "    for i in range(ln):\n",
    "        b[i] = righter(a, i)\n",
    "    s = 0\n",
    "    for i in range(ln):\n",
    "        s += a[i] * b[i]\n",
    "    print(s)"
   ]
  },
  {
   "cell_type": "code",
   "execution_count": 130,
   "metadata": {},
   "outputs": [
    {
     "name": "stdout",
     "output_type": "stream",
     "text": [
      "[0, 1, 2, 1, 4, 1]\n"
     ]
    }
   ],
   "source": []
  },
  {
   "cell_type": "code",
   "execution_count": null,
   "metadata": {},
   "outputs": [
    {
     "name": "stdout",
     "output_type": "stream",
     "text": [
      "1 5 9 12 15 "
     ]
    }
   ],
   "source": [
    "class Node:\n",
    "    def __init__(self, key, left=None, right=None):\n",
    "        self.key = key\n",
    "        self.left = left\n",
    "        self.right = right\n",
    "    \n",
    "    def isLeaf(self):\n",
    "        if self.left is None and self.right is None:\n",
    "            return True\n",
    "        return False\n",
    "\n",
    "\n",
    "    def insert(self, sert):\n",
    "        if sert < self.key and self.left is None:\n",
    "            self.left = Node(sert)\n",
    "        if sert > self.key and self.right is None:\n",
    "            self.right = Node(sert)\n",
    "        if sert < self.key and self.left is not None:\n",
    "            self.left.insert(sert)\n",
    "        if sert > self.key and self.right is not None:\n",
    "            self.right.insert(sert)\n",
    "\n",
    "    def leafysearch(self):\n",
    "        if self.isLeaf():\n",
    "            print(f\"{self.key} \", end=\"\")\n",
    "        if self.left is not None:\n",
    "            self.left.leafysearch()\n",
    "        if self.right is not None:\n",
    "            self.right.leafysearch()\n",
    "\n",
    "nope = int(input())\n",
    "l = list(set(list(map(int, input().split()))))\n",
    "nd = Node(l[0])\n",
    "for i in range(1, nope):\n",
    "    nd.insert(l[i])\n",
    "nd.leafysearch()"
   ]
  },
  {
   "cell_type": "code",
   "execution_count": null,
   "metadata": {},
   "outputs": [
    {
     "name": "stdout",
     "output_type": "stream",
     "text": [
      "1 2 3\n"
     ]
    }
   ],
   "source": [
    "def qsort(array):\n",
    "    left, mid, right = [], [], []\n",
    "    if len(array) > 1:\n",
    "        pivot = array[0]\n",
    "        for i in array:\n",
    "            if i < pivot:\n",
    "                left.append(i)\n",
    "            elif i == pivot:\n",
    "                mid.append(i)\n",
    "            else:\n",
    "                right.append(i)\n",
    "        return qsort(left) + mid + qsort(right)\n",
    "    else:\n",
    "        return array\n",
    "\n",
    "n, k = map(int, input().split())\n",
    "a = list(map(int, input().split()))\n",
    "\n",
    "Kth = a[:k]\n",
    "Kth = qsort(Kth)\n",
    "for i in range(k, n):\n",
    "    if(a[i] < Kth[k - 1]):\n",
    "        Kth[k - 1] = a[i]\n",
    "        Kth = sorted(Kth)\n",
    "print(*Kth)"
   ]
  },
  {
   "cell_type": "code",
   "execution_count": 34,
   "metadata": {},
   "outputs": [
    {
     "name": "stdout",
     "output_type": "stream",
     "text": [
      "8\n",
      "[0, 0, 0, 0, 4, 9, 0, 16]\n",
      "56\n",
      "[0, 1, 2, 6, 4, 9, 6, 28]\n",
      "9\n",
      "[0, 0, 2, 5, 4, 4, 0, 9, 0, 9]\n"
     ]
    }
   ],
   "source": [
    "def f(i):\n",
    "    return i & (i + 1)\n",
    "\n",
    "def g(i):\n",
    "    return i | (i + 1)\n",
    "\n",
    "def modify(array, k, d):\n",
    "    while k < len(array):\n",
    "        array[k] += d\n",
    "        k = g(k)\n",
    "\n",
    "def sum2(array, right):\n",
    "    result = 0\n",
    "    while right > 0:\n",
    "        result += array[right]\n",
    "        right = f(right) - 1\n",
    "    return result\n",
    "    \n",
    "\n",
    "testcount = int(input())\n",
    "for i in range(testcount):\n",
    "    stepcount = int(input())\n",
    "    steps = list(map(int, input().split()))\n",
    "    t = [0] * (max(steps) + 1)\n",
    "    summ_pobolbshe = 0\n",
    "    for x in steps:\n",
    "        summ_pomembshe = sum2(t, x - 1)\n",
    "        summ_pobolbshe += summ_pomembshe\n",
    "        modify(t, x, x)\n",
    "    print(summ_pobolbshe)\n",
    "    print(t)"
   ]
  },
  {
   "cell_type": "code",
   "execution_count": null,
   "metadata": {},
   "outputs": [],
   "source": []
  },
  {
   "cell_type": "code",
   "execution_count": null,
   "metadata": {},
   "outputs": [],
   "source": [
    "testcount = int(input())\n",
    "for i in range(testcount):\n",
    "    stepcount = int(input())\n",
    "    steps = list(map(int, input().split()))\n",
    "    t = [0] * len(steps)\n",
    "    for i in range(0, len(steps)):\n",
    "        modify(steps, t, i, steps[i])"
   ]
  }
 ],
 "metadata": {
  "kernelspec": {
   "display_name": "Python 3",
   "language": "python",
   "name": "python3"
  },
  "language_info": {
   "codemirror_mode": {
    "name": "ipython",
    "version": 3
   },
   "file_extension": ".py",
   "mimetype": "text/x-python",
   "name": "python",
   "nbconvert_exporter": "python",
   "pygments_lexer": "ipython3",
   "version": "3.12.5"
  }
 },
 "nbformat": 4,
 "nbformat_minor": 2
}
