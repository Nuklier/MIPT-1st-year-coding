{
 "cells": [
  {
   "cell_type": "code",
   "execution_count": null,
   "metadata": {},
   "outputs": [
    {
     "name": "stdout",
     "output_type": "stream",
     "text": [
      "шифр цезаря\n"
     ]
    }
   ],
   "source": [
    "# 1\n",
    "alphabet = \"—,.1234567890абвгдеёжзийклмнопрстуфхцчшщъыьэюя0987654321.,—\"\n",
    "alp = [alphabet[i] for i in range(len(alphabet))]\n",
    "\n",
    "\n",
    "def ind(i):\n",
    "    p = alp.index(i)\n",
    "    return p\n",
    "\n",
    "\n",
    "def atbash(a):\n",
    "    a = a.lower()\n",
    "    b = []\n",
    "    for i in a:\n",
    "        b.append(alp[len(alp) - 1 - ind(i)])\n",
    "    return \"\".join(b[i] for i in range(len(b)))\n",
    "\n",
    "\n",
    "inp = input()\n",
    "string = list(inp.split())\n",
    "b = []\n",
    "for i in string:\n",
    "    b.append(atbash(i))\n",
    "print(\" \".join(b[i] for i in range(len(b))))"
   ]
  },
  {
   "cell_type": "code",
   "execution_count": null,
   "metadata": {},
   "outputs": [
    {
     "name": "stdout",
     "output_type": "stream",
     "text": [
      "программу для частотного анализа следует написать самостоятельно успехов\n"
     ]
    }
   ],
   "source": [
    "# 2\n",
    "# ключ - 14\n",
    "def caesar(a):\n",
    "    alphabet = \"яюэьыъщшчцхфутсрпонмлкйизжёедгвба\"\n",
    "    b = []\n",
    "    for i in range(len(a)):\n",
    "        p = alphabet[(alphabet.index(a[i]) - 14) % len(alphabet)]\n",
    "        b.append(p)\n",
    "    return \"\".join(b[i] for i in range(len(b)))\n",
    "\n",
    "\n",
    "line = input()\n",
    "line = line.lower()\n",
    "string = list(line.split())\n",
    "b = []\n",
    "for i in string:\n",
    "    b.append(caesar(i))\n",
    "print(\" \".join(b[i] for i in range(len(b))))"
   ]
  }
 ],
 "metadata": {
  "kernelspec": {
   "display_name": "Python 3",
   "language": "python",
   "name": "python3"
  },
  "language_info": {
   "codemirror_mode": {
    "name": "ipython",
    "version": 3
   },
   "file_extension": ".py",
   "mimetype": "text/x-python",
   "name": "python",
   "nbconvert_exporter": "python",
   "pygments_lexer": "ipython3",
   "version": "3.12.5"
  }
 },
 "nbformat": 4,
 "nbformat_minor": 2
}
