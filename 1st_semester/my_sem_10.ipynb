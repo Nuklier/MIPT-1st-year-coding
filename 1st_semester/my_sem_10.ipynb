{
 "cells": [
  {
   "cell_type": "code",
   "execution_count": null,
   "metadata": {},
   "outputs": [
    {
     "name": "stdout",
     "output_type": "stream",
     "text": [
      "True\n"
     ]
    }
   ],
   "source": [
    "# 1\n",
    "class Node:\n",
    "    def __init__(self, key=None, left=None, right=None):\n",
    "        self.key = key\n",
    "        self.left = left\n",
    "        self.right = right\n",
    "\n",
    "# задается дерево, вводом, как в образце, руками через правых и левых детей\n",
    "# потом будет простой перебор левых и правых под рекурсией\n",
    "\n",
    "def ism(x, y):\n",
    "    if x == None and y == None:\n",
    "        return True # оба none - конец дерева, идем вверх\n",
    "    if x == None or y == None:\n",
    "        return False # не совпали - уже не зеркальные\n",
    "    if x.key == y.key and ism(x.left, y.right) and ism(x.right, y.left):\n",
    "        return True\n",
    "    else:\n",
    "        return False\n",
    "\n",
    "def ismirrored(x):\n",
    "    return ism(x.left, x.right)\n",
    "    \n",
    "\n",
    "x = Node(15)\n",
    "x.left = Node(10)\n",
    "x.right = Node(10)\n",
    "x.left.left = Node(8)\n",
    "x.left.right = Node(12)\n",
    "x.right.left = Node(12)\n",
    "x.right.right = Node(8)\n",
    "\n",
    "print(ismirrored(x))\n"
   ]
  },
  {
   "cell_type": "code",
   "execution_count": 21,
   "metadata": {},
   "outputs": [
    {
     "name": "stdout",
     "output_type": "stream",
     "text": [
      "True\n"
     ]
    }
   ],
   "source": [
    "# 2\n",
    "# куча для проверки:\n",
    "# 3 6 4 9 8 12 7 11 9\n",
    "a = list(map(int, input().split()))\n",
    "t = True\n",
    "for i in range(len(a)//2):\n",
    "    if a[(i + 1) * 2 - 1] < a[i] or a[(i + 1) * 2] < a[i]:\n",
    "        t = False\n",
    "print(t)"
   ]
  },
  {
   "cell_type": "code",
   "execution_count": 20,
   "metadata": {},
   "outputs": [
    {
     "name": "stdout",
     "output_type": "stream",
     "text": [
      "0\n",
      "4 1\n",
      "6 5 3 2\n"
     ]
    }
   ],
   "source": [
    "# 4 - зеркало\n",
    "class Node:\n",
    "    def __init__(self, key=None, left=None, right=None):\n",
    "        self.key = key\n",
    "        self.left = left\n",
    "        self.right = right\n",
    "\n",
    "def mrr(a):\n",
    "    if a.left == None and a.right == None:\n",
    "        return\n",
    "    a.left, a.right = a.right, a.left\n",
    "    mrr(a.left)\n",
    "    mrr(a.right)\n",
    "\n",
    "\n",
    "x = Node(0)\n",
    "x.left = Node(1)\n",
    "x.right = Node(4)\n",
    "x.left.left = Node(2)\n",
    "x.left.right = Node(3)\n",
    "x.right.left = Node(5)\n",
    "x.right.right = Node(6)\n",
    "\n",
    "mrr(x)\n",
    "print(x.key)\n",
    "print(x.left.key, x.right.key)\n",
    "print(x.left.left.key, x.left.right.key, x.right.left.key, x.right.right.key)\n"
   ]
  }
 ],
 "metadata": {
  "kernelspec": {
   "display_name": "Python 3",
   "language": "python",
   "name": "python3"
  },
  "language_info": {
   "codemirror_mode": {
    "name": "ipython",
    "version": 3
   },
   "file_extension": ".py",
   "mimetype": "text/x-python",
   "name": "python",
   "nbconvert_exporter": "python",
   "pygments_lexer": "ipython3",
   "version": "3.12.5"
  }
 },
 "nbformat": 4,
 "nbformat_minor": 2
}
