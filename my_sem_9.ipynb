{
 "cells": [
  {
   "cell_type": "code",
   "execution_count": 28,
   "metadata": {},
   "outputs": [
    {
     "name": "stdout",
     "output_type": "stream",
     "text": [
      "шифр цезаря\n"
     ]
    }
   ],
   "source": [
    "# 1 \n",
    "alphabet = \"—,.1234567890абвгдеёжзийклмнопрстуфхцчшщъыьэюя0987654321.,—\"\n",
    "alp = [alphabet[i] for i in range(len(alphabet))]\n",
    "\n",
    "def ind(i):\n",
    "    p = alp.index(i)\n",
    "    return p\n",
    "\n",
    "\n",
    "def atbash(a):\n",
    "    a = a.lower()\n",
    "    b = []\n",
    "    for i in a:\n",
    "        b.append(alp[len(alp) - 1 - ind(i)])\n",
    "    return \"\".join(b[i] for i in range(len(b)))\n",
    "\n",
    "inp = input()\n",
    "string = list(inp.split())\n",
    "b = []\n",
    "for i in string:\n",
    "    b.append(atbash(i))\n",
    "print(\" \".join(b[i] for i in range(len(b))))\n"
   ]
  },
  {
   "cell_type": "code",
   "execution_count": 34,
   "metadata": {},
   "outputs": [
    {
     "name": "stdout",
     "output_type": "stream",
     "text": [
      "программу для частотного анализа следует написать самостоятельно успехов\n"
     ]
    }
   ],
   "source": [
    "# 2 еще раз\n",
    "# 14\n",
    "# вгбдебь\n",
    "def caesar(a):\n",
    "    alphabet = \"яюэьыъщшчцхфутсрпонмлкйизжёедгвба\"\n",
    "    b = []\n",
    "    for i in range(len(a)):\n",
    "        p = alphabet[(alphabet.index(a[i]) - 14) % len(alphabet)]\n",
    "        b.append(p)\n",
    "    return \"\".join(b[i] for i in range(len(b)))\n",
    "        \n",
    "\n",
    "line = input()\n",
    "line = line.lower()\n",
    "string = list(line.split())\n",
    "b = []\n",
    "for i in string:\n",
    "    b.append(caesar(i))\n",
    "print(\" \".join(b[i] for i in range(len(b))))"
   ]
  },
  {
   "cell_type": "code",
   "execution_count": 25,
   "metadata": {},
   "outputs": [
    {
     "name": "stdout",
     "output_type": "stream",
     "text": [
      "['ЕГПЖ', 'ОГНЩЮЩЖЭ']\n"
     ]
    },
    {
     "ename": "ValueError",
     "evalue": "0 is not in list",
     "output_type": "error",
     "traceback": [
      "\u001b[1;31m---------------------------------------------------------------------------\u001b[0m",
      "\u001b[1;31mValueError\u001b[0m                                Traceback (most recent call last)",
      "Cell \u001b[1;32mIn[25], line 15\u001b[0m\n\u001b[0;32m     13\u001b[0m \u001b[38;5;28;01mfor\u001b[39;00m i \u001b[38;5;129;01min\u001b[39;00m a:\n\u001b[0;32m     14\u001b[0m     \u001b[38;5;28;01mfor\u001b[39;00m j \u001b[38;5;129;01min\u001b[39;00m i:\n\u001b[1;32m---> 15\u001b[0m         j \u001b[38;5;241m=\u001b[39m \u001b[43malphabet2\u001b[49m\u001b[38;5;241;43m.\u001b[39;49m\u001b[43mindex\u001b[49m\u001b[43m(\u001b[49m\u001b[43malphabet1\u001b[49m\u001b[38;5;241;43m.\u001b[39;49m\u001b[43mindex\u001b[49m\u001b[43m(\u001b[49m\u001b[43mj\u001b[49m\u001b[43m)\u001b[49m\u001b[43m)\u001b[49m\n\u001b[0;32m     16\u001b[0m \u001b[38;5;28mprint\u001b[39m(a)\n",
      "\u001b[1;31mValueError\u001b[0m: 0 is not in list"
     ]
    }
   ],
   "source": [
    "# 3 но без частотного анализа\n",
    "# с файла alphabets считай алфавиты и посмотри отсутствующие буковы\n",
    "# Егпж Огнщющжэ\n",
    "alphabet1, alphabet2 = [], []\n",
    "with open(\"alphabets1.txt\", \"r\") as f:\n",
    "    alphabet1 = f.read().split()\n",
    "with open(\"alphabets2.txt\", \"r\") as f:\n",
    "    alphabet2 = f.read().split()\n",
    "\n",
    "inp = input().upper()\n",
    "a = inp.split()\n",
    "print(a)\n",
    "for i in a:\n",
    "    for j in i:\n",
    "        j = alphabet2.index(alphabet1.index(j))\n",
    "print(a)"
   ]
  }
 ],
 "metadata": {
  "kernelspec": {
   "display_name": "Python 3",
   "language": "python",
   "name": "python3"
  },
  "language_info": {
   "codemirror_mode": {
    "name": "ipython",
    "version": 3
   },
   "file_extension": ".py",
   "mimetype": "text/x-python",
   "name": "python",
   "nbconvert_exporter": "python",
   "pygments_lexer": "ipython3",
   "version": "3.12.5"
  }
 },
 "nbformat": 4,
 "nbformat_minor": 2
}
